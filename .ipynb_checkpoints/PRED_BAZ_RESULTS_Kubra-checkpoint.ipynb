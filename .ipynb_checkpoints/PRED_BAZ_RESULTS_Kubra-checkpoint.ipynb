{
 "cells": [
  {
   "cell_type": "code",
   "execution_count": 12,
   "id": "c12f0324",
   "metadata": {},
   "outputs": [],
   "source": [
    "import pandas as pd\n",
    "import plotly.express as px\n",
    "import matplotlib.pyplot as plt\n",
    "from matplotlib import pyplot\n",
    "from PIL import Image\n",
    "import requests\n",
    "from io import BytesIO\n",
    "import xgboost as xgb\n",
    "from category_encoders import TargetEncoder\n",
    "from sklearn import preprocessing\n",
    "from sklearn.preprocessing import LabelEncoder, OneHotEncoder\n",
    "from sklearn.model_selection import train_test_split\n",
    "from sklearn.linear_model import LogisticRegression\n",
    "from sklearn.metrics import confusion_matrix , classification_report , accuracy_score,f1_score\n",
    "from sklearn.model_selection import train_test_split\n",
    "from sklearn.feature_extraction.text import CountVectorizer\n",
    "from sklearn.feature_extraction.text import TfidfTransformer\n",
    "from sklearn.naive_bayes import MultinomialNB\n",
    "from sklearn.linear_model import LogisticRegression\n",
    "from sklearn.ensemble import RandomForestClassifier\n",
    "from sklearn.svm import SVC\n",
    "from sklearn.neighbors import KNeighborsClassifier\n",
    "from sklearn.svm import LinearSVC\n",
    "from sklearn.model_selection import cross_val_score\n",
    "from IPython.display import display\n",
    "from sklearn import metrics\n",
    "import advertools as adv\n",
    "from sklearn.metrics import confusion_matrix\n",
    "from sklearn.metrics import accuracy_score, confusion_matrix, roc_auc_score, roc_curve\n",
    "import seaborn as sns\n",
    "import plotly.express as px\n",
    "import pickle\n",
    "from xgboost import plot_importance\n",
    "import plotly.graph_objects as go\n",
    "import warnings\n",
    "import optuna\n",
    "from fitter import Fitter\n",
    "warnings.filterwarnings('ignore')"
   ]
  },
  {
   "cell_type": "markdown",
   "id": "f9636171",
   "metadata": {},
   "source": [
    "## X_test FRQ ve SEV modeliyle predict edilmesi"
   ]
  },
  {
   "cell_type": "markdown",
   "id": "2278aa65",
   "metadata": {},
   "source": [
    "df2 =  pd.read_csv(\"autodata.csv\") # Müşteri bazında Frekans hesaplaması yapabilmek için ilk dataset i yeniden yüklüyoruz"
   ]
  },
  {
   "cell_type": "markdown",
   "id": "ffd56c13",
   "metadata": {},
   "source": [
    "df3 = df2.groupby(\"ID\").agg({\"CLAIM_FLAG\":\"sum\",\n",
    "                       \"KIDSDRIV\":\"count\"}).reset_index()\n",
    "df3[\"FRQ\"] = df3.CLAIM_FLAG / df3.KIDSDRIV\n",
    "df3 = df3[[\"ID\",\"FRQ\"]].sort_values(by= \"FRQ\",ascending=False)\n",
    "df4 = df2.merge(df3,how=\"left\",on=\"ID\")\n",
    "df5 = df4.drop([\"ID\",\"CLM_AMT\",\"CLAIM_FLAG\"],axis=1) # \"CLM_FREQ\" ÇIKARMALI MI?\n",
    "\n",
    "df = df5.copy()\n",
    "\n",
    "\n",
    "for i in df.columns:\n",
    "    if df[i].dtypes == \"object\":\n",
    "        df[i] = df[i].str.replace(\"$\",\"\")\n",
    "        df[i] = df[i].str.replace(\",\",\"\")\n",
    "        df[i] = df[i].str.replace(\"z_\",\"\")\n",
    "        try: # BUNU OBJECTLER İÇİN YAPMAMASINI İSTİYORUZ . SAYI YAPMAYI DENE SAYI OLMUYOSA ÖYLE BIRAK. \n",
    "            df[i] = df[i].astype(float)\n",
    "        except:\n",
    "            pass\n",
    "X = df.drop([\"FRQ\"],axis=1)\n",
    "y = df.FRQ\n",
    "\n",
    "X_train , X_test , y_train , y_test = train_test_split(X,y , test_size = 0.2 , random_state = 43, stratify=df.FRQ)\n",
    "\n",
    "p1 = sum(y_train) / len(y_train)\n",
    "p2 = sum(y_test) / len(y_test)\n",
    "print(f\"Train dataset freq mean : {p1:.2%}\")\n",
    "print(f\"Test dataset freq mean : {p2:.2%}\")\n",
    "\n"
   ]
  },
  {
   "cell_type": "code",
   "execution_count": 13,
   "id": "d6309647",
   "metadata": {},
   "outputs": [],
   "source": [
    "# load the FRQ Model\n",
    "filename = 'FRQ_Model.sav'\n",
    "freq_model = pickle.load(open(filename, 'rb'))\n",
    "#result = freq_model.score(X_test, y_test,)# score R2 diyor, negeatif çıkarsa model kötüdür\n",
    "                                            # modelin iyi olması için 1e yakın olmasını bekliyormuşuz.\n",
    "#print(result)\n",
    "\n",
    "# Target Encoding:\n",
    "#X_train_target_encoded = X_train.copy()\n",
    "#target_encoder = TargetEncoder()\n",
    "#X_train_encoded = target_encoder.fit_transform(X_train_target_encoded, y_train)\n",
    "\n",
    "#freq_model.fit(X_train_encoded,y_train)\n",
    "\n",
    "#X_test = target_encoder.transform(X_test)\n",
    "#pred_frq = freq_model.predict(X_test)\n",
    "#pred_frq"
   ]
  },
  {
   "cell_type": "code",
   "execution_count": 14,
   "id": "cb12d538",
   "metadata": {},
   "outputs": [],
   "source": [
    "#df_v = pd.DataFrame({\"Actual\" : y_test,\n",
    "                     #\"Pred\" : pred})\n",
    "\n",
    "#df_v[df_v.Actual == 1].Pred\n",
    "#print(f\"Ortalama Başarı : {y_test.mean() / pred.mean()}\")\n",
    "#print(f\"Hasarlıların Ortalama Tahmini : {df_v[df_v.Actual == 1].Pred.mean():.2%}\")\n",
    "#print(f\"Hasarsızların Ortalama Tahmini : {df_v[df_v.Actual == 0].Pred.mean():.2%}\")"
   ]
  },
  {
   "cell_type": "markdown",
   "id": "74be76b7",
   "metadata": {},
   "source": [
    "## SEVERITY PREDICTION"
   ]
  },
  {
   "cell_type": "code",
   "execution_count": 15,
   "id": "c03f661c",
   "metadata": {},
   "outputs": [
    {
     "name": "stdout",
     "output_type": "stream",
     "text": [
      "Train dataset SEVERITY mean : 571562.59%\n",
      "Test dataset SEVERITY mean : 561235.45%\n"
     ]
    },
    {
     "data": {
      "text/plain": [
       "(386,)"
      ]
     },
     "execution_count": 15,
     "metadata": {},
     "output_type": "execute_result"
    }
   ],
   "source": [
    "# load the SEV_Model\n",
    "filename = 'SEV_Model.sav'\n",
    "sev_model = pickle.load(open(filename, 'rb'))\n",
    "#result = sev_model.score(X_test, y_test,)# score R2 diyor, negeatif çıkarsa model kötüdür\n",
    "                                            # modelin iyi olması için 1e yakın olmasını bekliyormuşuz.\n",
    "#print(result)\n",
    "\n",
    "#df2 =  pd.read_csv(\"autodata.csv\")\n",
    "df2 =  pd.read_csv(\"cleaned_df1.csv\")\n",
    "\n",
    "df2 = df2[df2.CLAIM_FLAG == 1] # Yalnızca hasarlıları ele alıyoruz.\n",
    "df = df2.copy()\n",
    "for i in df.columns:\n",
    "    if df[i].dtypes == \"object\":\n",
    "        df[i] = df[i].str.replace('$' , '')\n",
    "        df[i] = df[i].str.replace(',' , '')\n",
    "        df[i] = df[i].str.replace(\"z_\",\"\")\n",
    "        try:\n",
    "            df[i] = df[i].astype(float)\n",
    "        except:\n",
    "            pass\n",
    "\n",
    "df2 = df.copy()\n",
    "\n",
    "df3 = df2.groupby(\"ID\").agg({\"CLAIM_FLAG\":\"sum\",\n",
    "                             \"CLM_AMT\" : \"sum\"}).reset_index()\n",
    "df3[\"SEVERITY\"] = df3.CLM_AMT / df3.CLAIM_FLAG\n",
    "df3 = df3[[\"ID\",\"SEVERITY\"]].sort_values(by= \"SEVERITY\",ascending=False)\n",
    "df4 = df2.merge(df3,how=\"left\",on=\"ID\")\n",
    "df5 = df4.drop([\"ID\",\"CLM_AMT\",\"CLAIM_FLAG\"],axis=1)\n",
    "\n",
    "df = df5.copy()\n",
    "\n",
    "X = df.drop([\"SEVERITY\"],axis=1)\n",
    "y = df.SEVERITY\n",
    "\n",
    "X_train , X_test , y_train , y_test = train_test_split(X,y , test_size = 0.2 , random_state = 43) \n",
    "\n",
    "p1 = sum(y_train) / len(y_train)\n",
    "p2 = sum(y_test) / len(y_test)\n",
    "print(f\"Train dataset SEVERITY mean : {p1:.2%}\")\n",
    "print(f\"Test dataset SEVERITY mean : {p2:.2%}\")\n",
    "\n",
    "\n",
    "X_train_target_encoded = X_train.copy()\n",
    "target_encoder = TargetEncoder()\n",
    "X_train_encoded = target_encoder.fit_transform(X_train_target_encoded, y_train)\n",
    "\n",
    "X_test = target_encoder.transform(X_test)\n",
    "\n",
    "pred_sev = sev_model.predict(X_test)\n",
    "pred_sev.shape\n",
    "\n",
    "pred_frq = freq_model.predict(X_test)\n",
    "pred_frq.shape"
   ]
  },
  {
   "cell_type": "markdown",
   "id": "251f8157",
   "metadata": {},
   "source": [
    "## Pred FRQ X PRED sev = Baz prım hesaplanması (base prim)"
   ]
  },
  {
   "cell_type": "code",
   "execution_count": 16,
   "id": "c202ede3",
   "metadata": {},
   "outputs": [],
   "source": [
    "base_prim = pred_frq*pred_sev"
   ]
  },
  {
   "cell_type": "markdown",
   "id": "e6886a41",
   "metadata": {},
   "source": [
    "## Base prim ile toplam ödenen tutar karşılaştırılması"
   ]
  },
  {
   "cell_type": "code",
   "execution_count": 17,
   "id": "50e8e69b",
   "metadata": {},
   "outputs": [],
   "source": [
    "# Toplam ödenen tutar: CLM_AMT.sum() ( Ne kadar yakın çıkarsa o kdar iyi)\n",
    "df2 = df2[df2.CLAIM_FLAG == 1]\n",
    "\n",
    "# Severity için oluşturulan X_test deki indexler e denk gelen , X_test oluşturulan dataki CLM_AMT değerleri\n",
    "X_test_CLM_AMT = df2.iloc[X_test.index]['CLM_AMT']"
   ]
  },
  {
   "cell_type": "code",
   "execution_count": 18,
   "id": "b1af928f",
   "metadata": {},
   "outputs": [
    {
     "data": {
      "text/plain": [
       "4898     687.304443\n",
       "5712    2499.798584\n",
       "7122    1415.106323\n",
       "6006    4414.515991\n",
       "3961    3348.297852\n",
       "           ...     \n",
       "6380    2937.126953\n",
       "6178    4563.569702\n",
       "6523    6172.427002\n",
       "1012    1524.333618\n",
       "2398    2810.286133\n",
       "Name: CLM_AMT, Length: 386, dtype: float64"
      ]
     },
     "execution_count": 18,
     "metadata": {},
     "output_type": "execute_result"
    }
   ],
   "source": [
    "X_test_CLM_AMT - base_prim"
   ]
  },
  {
   "cell_type": "code",
   "execution_count": 19,
   "id": "65ae4bf4",
   "metadata": {},
   "outputs": [
    {
     "data": {
      "text/plain": [
       "1701964.46875"
      ]
     },
     "execution_count": 19,
     "metadata": {},
     "output_type": "execute_result"
    }
   ],
   "source": [
    " X_test_CLM_AMT.sum() - base_prim.sum()"
   ]
  },
  {
   "cell_type": "code",
   "execution_count": 20,
   "id": "4b9f4d80",
   "metadata": {},
   "outputs": [
    {
     "data": {
      "application/vnd.plotly.v1+json": {
       "config": {
        "plotlyServerURL": "https://plot.ly"
       },
       "data": [
        {
         "alignmentgroup": "True",
         "bingroup": "x",
         "hovertemplate": "variable=Base Prim<br>value=%{x}<br>count=%{y}<extra></extra>",
         "legendgroup": "Base Prim",
         "marker": {
          "color": "#636efa",
          "pattern": {
           "shape": ""
          }
         },
         "name": "Base Prim",
         "offsetgroup": "Base Prim",
         "orientation": "v",
         "showlegend": true,
         "type": "histogram",
         "x": [
          1285.695556640625,
          955.201416015625,
          1467.8936767578125,
          1195.4840087890625,
          1811.7021484375,
          1408.7764892578125,
          983.7198486328125,
          1447.91455078125,
          1382.916015625,
          1404.6173095703125,
          1261.6480712890625,
          1171.5347900390625,
          1052.3349609375,
          1346.9580078125,
          1172.3533935546875,
          1252.80712890625,
          1270.957763671875,
          943.7510375976562,
          1234.794189453125,
          1589.8792724609375,
          1398.010986328125,
          1402.3157958984375,
          1398.223876953125,
          1247.279296875,
          1025.2991943359375,
          1232.00146484375,
          956.6519165039062,
          1325.8980712890625,
          1331.9013671875,
          969.2579345703125,
          1524.4124755859375,
          1508.6405029296875,
          1054.422119140625,
          1001.1460571289062,
          1576.8707275390625,
          1424.816650390625,
          1011.9195556640625,
          1469.6304931640625,
          1504.2550048828125,
          1186.8458251953125,
          1603.189453125,
          1020.3890380859375,
          1143.0875244140625,
          1061.885986328125,
          1320.512939453125,
          963.0104370117188,
          1231.1656494140625,
          1199.835693359375,
          1257.0225830078125,
          1070.6732177734375,
          1192.0623779296875,
          1487.8218994140625,
          1246.7557373046875,
          1504.5821533203125,
          2207.84423828125,
          1067.610595703125,
          1054.879638671875,
          1755.572265625,
          917.8462524414062,
          989.9210815429688,
          1021.0386962890625,
          1287.4742431640625,
          1438.334228515625,
          1832.764892578125,
          1138.7611083984375,
          1584.79248046875,
          905.7037353515625,
          1109.9449462890625,
          1634.54296875,
          906.8453979492188,
          1346.649658203125,
          1395.4322509765625,
          900.137939453125,
          1068.831298828125,
          2106.165771484375,
          1311.32177734375,
          1174.6561279296875,
          1232.424072265625,
          1411.756591796875,
          1351.6822509765625,
          1166.56884765625,
          1355.075927734375,
          1148.4342041015625,
          1268.817138671875,
          2303.576904296875,
          1432.2528076171875,
          1491.53759765625,
          1171.8360595703125,
          1244.3167724609375,
          969.3800048828125,
          1627.695556640625,
          1595.0244140625,
          1239.44384765625,
          1916.7520751953125,
          1242.396484375,
          927.0437622070312,
          1128.3741455078125,
          870.9896850585938,
          1774.074951171875,
          684.4235229492188,
          1629.4141845703125,
          1115.0648193359375,
          1672.5640869140625,
          1818.135498046875,
          1560.5828857421875,
          1126.49951171875,
          2264.891845703125,
          819.8578491210938,
          1024.425537109375,
          1074.5989990234375,
          804.7105712890625,
          968.8074951171875,
          1025.2579345703125,
          1200.8448486328125,
          970.2998657226562,
          1975.10498046875,
          1348.322509765625,
          1310.01806640625,
          971.716552734375,
          985.555908203125,
          1390.228271484375,
          1280.5625,
          1981.92529296875,
          1185.2388916015625,
          817.559814453125,
          1398.13427734375,
          955.3458251953125,
          1063.099609375,
          833.5341186523438,
          991.8865356445312,
          1197.301513671875,
          1497.759521484375,
          980.0659790039062,
          1287.2637939453125,
          1220.914306640625,
          1496.2470703125,
          1466.2354736328125,
          1650.2779541015625,
          1434.2427978515625,
          947.5538940429688,
          1897.41015625,
          1017.9522705078125,
          1153.4296875,
          1210.1033935546875,
          1148.6298828125,
          1145.5103759765625,
          1684.365966796875,
          1066.3355712890625,
          925.4405517578125,
          1106.4215087890625,
          1011.1277465820312,
          1649.6680908203125,
          946.8377685546875,
          1273.4044189453125,
          1783.8062744140625,
          1060.6767578125,
          1546.177001953125,
          1378.0343017578125,
          1317.4483642578125,
          837.4121704101562,
          1589.1287841796875,
          1502.9105224609375,
          1523.0662841796875,
          1087.7769775390625,
          918.4034423828125,
          1165.240234375,
          1274.7642822265625,
          1322.2655029296875,
          1091.9285888671875,
          1110.775634765625,
          1270.807373046875,
          1091.122314453125,
          783.5245361328125,
          1202.8487548828125,
          899.4573974609375,
          1312.292236328125,
          1481.112060546875,
          1482.6839599609375,
          1404.059814453125,
          942.434814453125,
          1433.951904296875,
          1572.843017578125,
          1358.6275634765625,
          1475.0706787109375,
          1204.9691162109375,
          1612.9749755859375,
          983.8387451171875,
          1263.0360107421875,
          1254.228515625,
          1214.6785888671875,
          1699.114013671875,
          1328.33203125,
          1159.890380859375,
          1088.91796875,
          1162.864013671875,
          1791.2071533203125,
          1737.948486328125,
          1209.7772216796875,
          1094.7059326171875,
          933.9066772460938,
          1125.743408203125,
          1046.9227294921875,
          1131.388427734375,
          1346.804931640625,
          1119.732421875,
          1939.7174072265625,
          1023.77197265625,
          1239.5718994140625,
          828.8134155273438,
          766.5795288085938,
          1605.58203125,
          1448.7344970703125,
          1374.248291015625,
          1110.9046630859375,
          1255.8990478515625,
          1099.2779541015625,
          881.6034545898438,
          951.4112548828125,
          1449.0064697265625,
          1254.065185546875,
          1116.80712890625,
          1432.6605224609375,
          1281.1744384765625,
          1591.8177490234375,
          941.390380859375,
          1912.4326171875,
          1388.09716796875,
          1406.518310546875,
          1329.77197265625,
          1043.9906005859375,
          1413.6268310546875,
          935.939208984375,
          988.8319091796875,
          925.2020263671875,
          2194.57177734375,
          1214.061767578125,
          1616.1441650390625,
          1010.0360717773438,
          1435.2628173828125,
          1300.993896484375,
          1476.0899658203125,
          1999.6318359375,
          1029.7388916015625,
          1448.282470703125,
          1355.028564453125,
          931.271484375,
          1392.3917236328125,
          1086.1158447265625,
          1213.3758544921875,
          1442.994873046875,
          1345.137939453125,
          1095.2591552734375,
          1070.2825927734375,
          1614.4635009765625,
          872.6218872070312,
          1676.582275390625,
          1120.768310546875,
          1269.97119140625,
          1396.6639404296875,
          1196.5103759765625,
          953.4616088867188,
          1080.7962646484375,
          1462.17578125,
          1048.33935546875,
          1554.2445068359375,
          1627.8043212890625,
          925.122802734375,
          769.8594360351562,
          1076.2894287109375,
          1258.6708984375,
          1549.55712890625,
          1110.24462890625,
          1088.83642578125,
          774.1207885742188,
          1201.814697265625,
          1417.766357421875,
          969.3223266601562,
          1955.0810546875,
          1108.6937255859375,
          1055.609375,
          1506.585693359375,
          1176.642333984375,
          840.912109375,
          1348.127197265625,
          1303.1895751953125,
          1193.3277587890625,
          1058.5455322265625,
          1740.28466796875,
          1344.7191162109375,
          1114.7801513671875,
          1299.9720458984375,
          1575.9139404296875,
          1423.146728515625,
          1698.7119140625,
          824.45654296875,
          1419.0052490234375,
          1237.31640625,
          1077.8670654296875,
          1402.3746337890625,
          832.882080078125,
          1150.284423828125,
          1216.3074951171875,
          1341.5123291015625,
          985.4179077148438,
          1344.2628173828125,
          1266.1480712890625,
          1679.3018798828125,
          1470.6502685546875,
          1381.78076171875,
          1657.801513671875,
          1824.2769775390625,
          1464.4232177734375,
          1476.9593505859375,
          1179.20556640625,
          1126.3934326171875,
          1354.5543212890625,
          1150.097412109375,
          1428.4949951171875,
          1108.1319580078125,
          1310.77734375,
          996.530029296875,
          984.2632446289062,
          912.236083984375,
          1033.874267578125,
          927.6099853515625,
          1513.7254638671875,
          1670.0419921875,
          1217.9835205078125,
          979.9647827148438,
          1219.6363525390625,
          1103.466552734375,
          1242.590576171875,
          1534.156982421875,
          1539.267822265625,
          1255.1983642578125,
          1329.478759765625,
          1576.5594482421875,
          1052.3941650390625,
          1275.129638671875,
          1133.92578125,
          1722.8328857421875,
          956.1333618164062,
          1652.4383544921875,
          1264.76220703125,
          1843.9388427734375,
          997.510986328125,
          1483.3984375,
          907.4395751953125,
          1029.846435546875,
          1702.38671875,
          1077.9482421875,
          1814.6600341796875,
          1185.990478515625,
          918.4479370117188,
          1481.09814453125,
          1925.29931640625,
          1207.375732421875,
          997.5206909179688,
          1499.6153564453125,
          1035.89453125,
          1005.8027954101562,
          799.0323486328125,
          1526.1363525390625,
          1045.6519775390625,
          1417.6094970703125,
          1080.516357421875,
          1055.6953125,
          1563.097412109375,
          968.2677612304688,
          1636.801513671875,
          1531.169189453125,
          1153.68994140625,
          1944.4727783203125,
          861.7538452148438,
          908.171875,
          1213.3038330078125,
          1653.0367431640625,
          1448.980712890625,
          917.9357299804688,
          1200.6319580078125,
          884.9033813476562,
          1227.873046875,
          794.4302978515625,
          879.572998046875,
          1331.6663818359375,
          1487.7138671875
         ],
         "xaxis": "x",
         "yaxis": "y"
        },
        {
         "alignmentgroup": "True",
         "bingroup": "x",
         "hovertemplate": "variable=Clm Amt<br>value=%{x}<br>count=%{y}<extra></extra>",
         "legendgroup": "Clm Amt",
         "marker": {
          "color": "#EF553B",
          "pattern": {
           "shape": ""
          }
         },
         "name": "Clm Amt",
         "offsetgroup": "Clm Amt",
         "orientation": "v",
         "showlegend": true,
         "type": "histogram",
         "x": [
          1973,
          3455,
          2883,
          5610,
          5160,
          2379,
          2535,
          56400,
          7291,
          2646,
          3091,
          5032,
          4950,
          5396,
          3158,
          5618,
          3663,
          6457,
          3348,
          9082,
          2422,
          1205,
          3134,
          2891,
          3654,
          3305,
          5470,
          4091,
          4927,
          599,
          4274,
          20883,
          13770,
          6050,
          4665,
          5761,
          2143,
          50818,
          4623,
          3548,
          5951,
          2524,
          5146,
          5782,
          1643,
          1428,
          4234,
          3698,
          4754,
          4102,
          4941,
          1381,
          58851,
          4313,
          3361,
          1168,
          3125,
          14604,
          2572,
          7551,
          3982,
          1479,
          3007,
          3822,
          2786,
          11770,
          5583,
          6386,
          1511,
          4666,
          7084,
          5722,
          7369,
          3901,
          3288,
          2667,
          6158,
          5109,
          5631,
          3965,
          2012,
          6074,
          4298,
          3343,
          4665,
          7843,
          710,
          934,
          3337,
          5301,
          4167,
          3896,
          2392,
          2932,
          726,
          2870,
          6606,
          3686,
          3340,
          706,
          2489,
          2463,
          5273,
          3350,
          3845,
          2933,
          3982,
          926,
          3762,
          4566,
          3971,
          2136,
          7058,
          5648,
          7099,
          4539,
          1299,
          6245,
          5908,
          3374,
          4363,
          9945,
          10839,
          14834,
          1556,
          5063,
          5268,
          5165,
          3193,
          2474,
          5250,
          1741,
          6491,
          663,
          3169,
          2574,
          16678,
          3106,
          4356,
          2464,
          966,
          2489,
          5324,
          2763,
          6195,
          5395,
          60838,
          3900,
          27711,
          5662,
          2943,
          3667,
          5212,
          4347,
          2297,
          3999,
          5102,
          2517,
          2976,
          5184,
          1947,
          9059,
          6049,
          3226,
          3060,
          4046,
          44916,
          4519,
          3036,
          4277,
          956,
          1026,
          2585,
          2418,
          856,
          1307,
          4804,
          4536,
          5161,
          3659,
          7161,
          6188,
          6409,
          2446,
          693,
          9105,
          5436,
          52490,
          5642,
          1639,
          7756,
          3625,
          3790,
          4308,
          5759,
          3107,
          2075,
          2468,
          3440,
          2408,
          7833,
          7619,
          3794,
          2553,
          2301,
          7506,
          5866,
          5052,
          4943,
          4892,
          5733,
          5013,
          2298,
          4753,
          7563,
          9467,
          4448,
          7123,
          6849,
          3038,
          4485,
          4691,
          3611,
          8162,
          1232,
          4321,
          4255,
          3993,
          196,
          3667,
          4704,
          2598,
          2727,
          10690,
          2033,
          4198,
          5275,
          4486,
          2651,
          4190,
          2265,
          2901,
          5831,
          3851,
          2287,
          6287,
          7800,
          2559,
          4863,
          6393,
          830,
          6612,
          917,
          3334,
          1338,
          1453,
          4326,
          7505,
          6726,
          2776,
          4367,
          13105,
          6023,
          4433,
          2964,
          3854,
          3501,
          1324,
          1683,
          4577,
          1877,
          3674,
          3269,
          2419,
          1498,
          774,
          2091,
          316,
          18139,
          5282,
          4298,
          5252,
          8748,
          471,
          13773,
          4538,
          4600,
          6693,
          5459,
          4257,
          4390,
          5967,
          3044,
          6281,
          4933,
          4363,
          6719,
          3367,
          4703,
          8843,
          5509,
          5064,
          3793,
          23154,
          3549,
          3879,
          9663,
          840,
          3726,
          19668,
          2106,
          4771,
          22244,
          5791,
          11213,
          7442,
          7481,
          4172,
          1745,
          2746,
          4307,
          535,
          5431,
          3128,
          15562,
          5295,
          3488,
          12338,
          1282,
          35009,
          2524,
          20509,
          3242,
          8000,
          4488,
          4093,
          1698,
          5521,
          4130,
          664,
          3776,
          1937,
          8623,
          4080,
          1850,
          9540,
          3425,
          2199,
          4790,
          8060,
          4506,
          2908,
          2413,
          1043,
          680,
          6145,
          9187,
          7170,
          3347,
          6969,
          1525,
          3960,
          3265,
          6481,
          6579,
          6639,
          5320,
          5109,
          4191,
          7199,
          1125,
          2575,
          7311,
          5692,
          3589,
          2856,
          38378,
          3048,
          3674,
          6088,
          3225,
          4165,
          5358,
          7052,
          2856,
          4298
         ],
         "xaxis": "x",
         "yaxis": "y"
        }
       ],
       "layout": {
        "barmode": "relative",
        "legend": {
         "title": {
          "text": "variable"
         },
         "tracegroupgap": 0
        },
        "margin": {
         "t": 60
        },
        "template": {
         "data": {
          "bar": [
           {
            "error_x": {
             "color": "#2a3f5f"
            },
            "error_y": {
             "color": "#2a3f5f"
            },
            "marker": {
             "line": {
              "color": "#E5ECF6",
              "width": 0.5
             },
             "pattern": {
              "fillmode": "overlay",
              "size": 10,
              "solidity": 0.2
             }
            },
            "type": "bar"
           }
          ],
          "barpolar": [
           {
            "marker": {
             "line": {
              "color": "#E5ECF6",
              "width": 0.5
             },
             "pattern": {
              "fillmode": "overlay",
              "size": 10,
              "solidity": 0.2
             }
            },
            "type": "barpolar"
           }
          ],
          "carpet": [
           {
            "aaxis": {
             "endlinecolor": "#2a3f5f",
             "gridcolor": "white",
             "linecolor": "white",
             "minorgridcolor": "white",
             "startlinecolor": "#2a3f5f"
            },
            "baxis": {
             "endlinecolor": "#2a3f5f",
             "gridcolor": "white",
             "linecolor": "white",
             "minorgridcolor": "white",
             "startlinecolor": "#2a3f5f"
            },
            "type": "carpet"
           }
          ],
          "choropleth": [
           {
            "colorbar": {
             "outlinewidth": 0,
             "ticks": ""
            },
            "type": "choropleth"
           }
          ],
          "contour": [
           {
            "colorbar": {
             "outlinewidth": 0,
             "ticks": ""
            },
            "colorscale": [
             [
              0,
              "#0d0887"
             ],
             [
              0.1111111111111111,
              "#46039f"
             ],
             [
              0.2222222222222222,
              "#7201a8"
             ],
             [
              0.3333333333333333,
              "#9c179e"
             ],
             [
              0.4444444444444444,
              "#bd3786"
             ],
             [
              0.5555555555555556,
              "#d8576b"
             ],
             [
              0.6666666666666666,
              "#ed7953"
             ],
             [
              0.7777777777777778,
              "#fb9f3a"
             ],
             [
              0.8888888888888888,
              "#fdca26"
             ],
             [
              1,
              "#f0f921"
             ]
            ],
            "type": "contour"
           }
          ],
          "contourcarpet": [
           {
            "colorbar": {
             "outlinewidth": 0,
             "ticks": ""
            },
            "type": "contourcarpet"
           }
          ],
          "heatmap": [
           {
            "colorbar": {
             "outlinewidth": 0,
             "ticks": ""
            },
            "colorscale": [
             [
              0,
              "#0d0887"
             ],
             [
              0.1111111111111111,
              "#46039f"
             ],
             [
              0.2222222222222222,
              "#7201a8"
             ],
             [
              0.3333333333333333,
              "#9c179e"
             ],
             [
              0.4444444444444444,
              "#bd3786"
             ],
             [
              0.5555555555555556,
              "#d8576b"
             ],
             [
              0.6666666666666666,
              "#ed7953"
             ],
             [
              0.7777777777777778,
              "#fb9f3a"
             ],
             [
              0.8888888888888888,
              "#fdca26"
             ],
             [
              1,
              "#f0f921"
             ]
            ],
            "type": "heatmap"
           }
          ],
          "heatmapgl": [
           {
            "colorbar": {
             "outlinewidth": 0,
             "ticks": ""
            },
            "colorscale": [
             [
              0,
              "#0d0887"
             ],
             [
              0.1111111111111111,
              "#46039f"
             ],
             [
              0.2222222222222222,
              "#7201a8"
             ],
             [
              0.3333333333333333,
              "#9c179e"
             ],
             [
              0.4444444444444444,
              "#bd3786"
             ],
             [
              0.5555555555555556,
              "#d8576b"
             ],
             [
              0.6666666666666666,
              "#ed7953"
             ],
             [
              0.7777777777777778,
              "#fb9f3a"
             ],
             [
              0.8888888888888888,
              "#fdca26"
             ],
             [
              1,
              "#f0f921"
             ]
            ],
            "type": "heatmapgl"
           }
          ],
          "histogram": [
           {
            "marker": {
             "pattern": {
              "fillmode": "overlay",
              "size": 10,
              "solidity": 0.2
             }
            },
            "type": "histogram"
           }
          ],
          "histogram2d": [
           {
            "colorbar": {
             "outlinewidth": 0,
             "ticks": ""
            },
            "colorscale": [
             [
              0,
              "#0d0887"
             ],
             [
              0.1111111111111111,
              "#46039f"
             ],
             [
              0.2222222222222222,
              "#7201a8"
             ],
             [
              0.3333333333333333,
              "#9c179e"
             ],
             [
              0.4444444444444444,
              "#bd3786"
             ],
             [
              0.5555555555555556,
              "#d8576b"
             ],
             [
              0.6666666666666666,
              "#ed7953"
             ],
             [
              0.7777777777777778,
              "#fb9f3a"
             ],
             [
              0.8888888888888888,
              "#fdca26"
             ],
             [
              1,
              "#f0f921"
             ]
            ],
            "type": "histogram2d"
           }
          ],
          "histogram2dcontour": [
           {
            "colorbar": {
             "outlinewidth": 0,
             "ticks": ""
            },
            "colorscale": [
             [
              0,
              "#0d0887"
             ],
             [
              0.1111111111111111,
              "#46039f"
             ],
             [
              0.2222222222222222,
              "#7201a8"
             ],
             [
              0.3333333333333333,
              "#9c179e"
             ],
             [
              0.4444444444444444,
              "#bd3786"
             ],
             [
              0.5555555555555556,
              "#d8576b"
             ],
             [
              0.6666666666666666,
              "#ed7953"
             ],
             [
              0.7777777777777778,
              "#fb9f3a"
             ],
             [
              0.8888888888888888,
              "#fdca26"
             ],
             [
              1,
              "#f0f921"
             ]
            ],
            "type": "histogram2dcontour"
           }
          ],
          "mesh3d": [
           {
            "colorbar": {
             "outlinewidth": 0,
             "ticks": ""
            },
            "type": "mesh3d"
           }
          ],
          "parcoords": [
           {
            "line": {
             "colorbar": {
              "outlinewidth": 0,
              "ticks": ""
             }
            },
            "type": "parcoords"
           }
          ],
          "pie": [
           {
            "automargin": true,
            "type": "pie"
           }
          ],
          "scatter": [
           {
            "fillpattern": {
             "fillmode": "overlay",
             "size": 10,
             "solidity": 0.2
            },
            "type": "scatter"
           }
          ],
          "scatter3d": [
           {
            "line": {
             "colorbar": {
              "outlinewidth": 0,
              "ticks": ""
             }
            },
            "marker": {
             "colorbar": {
              "outlinewidth": 0,
              "ticks": ""
             }
            },
            "type": "scatter3d"
           }
          ],
          "scattercarpet": [
           {
            "marker": {
             "colorbar": {
              "outlinewidth": 0,
              "ticks": ""
             }
            },
            "type": "scattercarpet"
           }
          ],
          "scattergeo": [
           {
            "marker": {
             "colorbar": {
              "outlinewidth": 0,
              "ticks": ""
             }
            },
            "type": "scattergeo"
           }
          ],
          "scattergl": [
           {
            "marker": {
             "colorbar": {
              "outlinewidth": 0,
              "ticks": ""
             }
            },
            "type": "scattergl"
           }
          ],
          "scattermapbox": [
           {
            "marker": {
             "colorbar": {
              "outlinewidth": 0,
              "ticks": ""
             }
            },
            "type": "scattermapbox"
           }
          ],
          "scatterpolar": [
           {
            "marker": {
             "colorbar": {
              "outlinewidth": 0,
              "ticks": ""
             }
            },
            "type": "scatterpolar"
           }
          ],
          "scatterpolargl": [
           {
            "marker": {
             "colorbar": {
              "outlinewidth": 0,
              "ticks": ""
             }
            },
            "type": "scatterpolargl"
           }
          ],
          "scatterternary": [
           {
            "marker": {
             "colorbar": {
              "outlinewidth": 0,
              "ticks": ""
             }
            },
            "type": "scatterternary"
           }
          ],
          "surface": [
           {
            "colorbar": {
             "outlinewidth": 0,
             "ticks": ""
            },
            "colorscale": [
             [
              0,
              "#0d0887"
             ],
             [
              0.1111111111111111,
              "#46039f"
             ],
             [
              0.2222222222222222,
              "#7201a8"
             ],
             [
              0.3333333333333333,
              "#9c179e"
             ],
             [
              0.4444444444444444,
              "#bd3786"
             ],
             [
              0.5555555555555556,
              "#d8576b"
             ],
             [
              0.6666666666666666,
              "#ed7953"
             ],
             [
              0.7777777777777778,
              "#fb9f3a"
             ],
             [
              0.8888888888888888,
              "#fdca26"
             ],
             [
              1,
              "#f0f921"
             ]
            ],
            "type": "surface"
           }
          ],
          "table": [
           {
            "cells": {
             "fill": {
              "color": "#EBF0F8"
             },
             "line": {
              "color": "white"
             }
            },
            "header": {
             "fill": {
              "color": "#C8D4E3"
             },
             "line": {
              "color": "white"
             }
            },
            "type": "table"
           }
          ]
         },
         "layout": {
          "annotationdefaults": {
           "arrowcolor": "#2a3f5f",
           "arrowhead": 0,
           "arrowwidth": 1
          },
          "autotypenumbers": "strict",
          "coloraxis": {
           "colorbar": {
            "outlinewidth": 0,
            "ticks": ""
           }
          },
          "colorscale": {
           "diverging": [
            [
             0,
             "#8e0152"
            ],
            [
             0.1,
             "#c51b7d"
            ],
            [
             0.2,
             "#de77ae"
            ],
            [
             0.3,
             "#f1b6da"
            ],
            [
             0.4,
             "#fde0ef"
            ],
            [
             0.5,
             "#f7f7f7"
            ],
            [
             0.6,
             "#e6f5d0"
            ],
            [
             0.7,
             "#b8e186"
            ],
            [
             0.8,
             "#7fbc41"
            ],
            [
             0.9,
             "#4d9221"
            ],
            [
             1,
             "#276419"
            ]
           ],
           "sequential": [
            [
             0,
             "#0d0887"
            ],
            [
             0.1111111111111111,
             "#46039f"
            ],
            [
             0.2222222222222222,
             "#7201a8"
            ],
            [
             0.3333333333333333,
             "#9c179e"
            ],
            [
             0.4444444444444444,
             "#bd3786"
            ],
            [
             0.5555555555555556,
             "#d8576b"
            ],
            [
             0.6666666666666666,
             "#ed7953"
            ],
            [
             0.7777777777777778,
             "#fb9f3a"
            ],
            [
             0.8888888888888888,
             "#fdca26"
            ],
            [
             1,
             "#f0f921"
            ]
           ],
           "sequentialminus": [
            [
             0,
             "#0d0887"
            ],
            [
             0.1111111111111111,
             "#46039f"
            ],
            [
             0.2222222222222222,
             "#7201a8"
            ],
            [
             0.3333333333333333,
             "#9c179e"
            ],
            [
             0.4444444444444444,
             "#bd3786"
            ],
            [
             0.5555555555555556,
             "#d8576b"
            ],
            [
             0.6666666666666666,
             "#ed7953"
            ],
            [
             0.7777777777777778,
             "#fb9f3a"
            ],
            [
             0.8888888888888888,
             "#fdca26"
            ],
            [
             1,
             "#f0f921"
            ]
           ]
          },
          "colorway": [
           "#636efa",
           "#EF553B",
           "#00cc96",
           "#ab63fa",
           "#FFA15A",
           "#19d3f3",
           "#FF6692",
           "#B6E880",
           "#FF97FF",
           "#FECB52"
          ],
          "font": {
           "color": "#2a3f5f"
          },
          "geo": {
           "bgcolor": "white",
           "lakecolor": "white",
           "landcolor": "#E5ECF6",
           "showlakes": true,
           "showland": true,
           "subunitcolor": "white"
          },
          "hoverlabel": {
           "align": "left"
          },
          "hovermode": "closest",
          "mapbox": {
           "style": "light"
          },
          "paper_bgcolor": "white",
          "plot_bgcolor": "#E5ECF6",
          "polar": {
           "angularaxis": {
            "gridcolor": "white",
            "linecolor": "white",
            "ticks": ""
           },
           "bgcolor": "#E5ECF6",
           "radialaxis": {
            "gridcolor": "white",
            "linecolor": "white",
            "ticks": ""
           }
          },
          "scene": {
           "xaxis": {
            "backgroundcolor": "#E5ECF6",
            "gridcolor": "white",
            "gridwidth": 2,
            "linecolor": "white",
            "showbackground": true,
            "ticks": "",
            "zerolinecolor": "white"
           },
           "yaxis": {
            "backgroundcolor": "#E5ECF6",
            "gridcolor": "white",
            "gridwidth": 2,
            "linecolor": "white",
            "showbackground": true,
            "ticks": "",
            "zerolinecolor": "white"
           },
           "zaxis": {
            "backgroundcolor": "#E5ECF6",
            "gridcolor": "white",
            "gridwidth": 2,
            "linecolor": "white",
            "showbackground": true,
            "ticks": "",
            "zerolinecolor": "white"
           }
          },
          "shapedefaults": {
           "line": {
            "color": "#2a3f5f"
           }
          },
          "ternary": {
           "aaxis": {
            "gridcolor": "white",
            "linecolor": "white",
            "ticks": ""
           },
           "baxis": {
            "gridcolor": "white",
            "linecolor": "white",
            "ticks": ""
           },
           "bgcolor": "#E5ECF6",
           "caxis": {
            "gridcolor": "white",
            "linecolor": "white",
            "ticks": ""
           }
          },
          "title": {
           "x": 0.05
          },
          "xaxis": {
           "automargin": true,
           "gridcolor": "white",
           "linecolor": "white",
           "ticks": "",
           "title": {
            "standoff": 15
           },
           "zerolinecolor": "white",
           "zerolinewidth": 2
          },
          "yaxis": {
           "automargin": true,
           "gridcolor": "white",
           "linecolor": "white",
           "ticks": "",
           "title": {
            "standoff": 15
           },
           "zerolinecolor": "white",
           "zerolinewidth": 2
          }
         }
        },
        "xaxis": {
         "anchor": "y",
         "domain": [
          0,
          1
         ],
         "title": {
          "text": "value"
         }
        },
        "yaxis": {
         "anchor": "x",
         "domain": [
          0,
          1
         ],
         "title": {
          "text": "count"
         }
        }
       }
      },
      "text/html": [
       "<div>                            <div id=\"0cc3cb5c-43be-4ad0-8b1b-6eab4f30cbcb\" class=\"plotly-graph-div\" style=\"height:525px; width:100%;\"></div>            <script type=\"text/javascript\">                require([\"plotly\"], function(Plotly) {                    window.PLOTLYENV=window.PLOTLYENV || {};                                    if (document.getElementById(\"0cc3cb5c-43be-4ad0-8b1b-6eab4f30cbcb\")) {                    Plotly.newPlot(                        \"0cc3cb5c-43be-4ad0-8b1b-6eab4f30cbcb\",                        [{\"alignmentgroup\":\"True\",\"bingroup\":\"x\",\"hovertemplate\":\"variable=Base Prim<br>value=%{x}<br>count=%{y}<extra></extra>\",\"legendgroup\":\"Base Prim\",\"marker\":{\"color\":\"#636efa\",\"pattern\":{\"shape\":\"\"}},\"name\":\"Base Prim\",\"offsetgroup\":\"Base Prim\",\"orientation\":\"v\",\"showlegend\":true,\"x\":[1285.695556640625,955.201416015625,1467.8936767578125,1195.4840087890625,1811.7021484375,1408.7764892578125,983.7198486328125,1447.91455078125,1382.916015625,1404.6173095703125,1261.6480712890625,1171.5347900390625,1052.3349609375,1346.9580078125,1172.3533935546875,1252.80712890625,1270.957763671875,943.7510375976562,1234.794189453125,1589.8792724609375,1398.010986328125,1402.3157958984375,1398.223876953125,1247.279296875,1025.2991943359375,1232.00146484375,956.6519165039062,1325.8980712890625,1331.9013671875,969.2579345703125,1524.4124755859375,1508.6405029296875,1054.422119140625,1001.1460571289062,1576.8707275390625,1424.816650390625,1011.9195556640625,1469.6304931640625,1504.2550048828125,1186.8458251953125,1603.189453125,1020.3890380859375,1143.0875244140625,1061.885986328125,1320.512939453125,963.0104370117188,1231.1656494140625,1199.835693359375,1257.0225830078125,1070.6732177734375,1192.0623779296875,1487.8218994140625,1246.7557373046875,1504.5821533203125,2207.84423828125,1067.610595703125,1054.879638671875,1755.572265625,917.8462524414062,989.9210815429688,1021.0386962890625,1287.4742431640625,1438.334228515625,1832.764892578125,1138.7611083984375,1584.79248046875,905.7037353515625,1109.9449462890625,1634.54296875,906.8453979492188,1346.649658203125,1395.4322509765625,900.137939453125,1068.831298828125,2106.165771484375,1311.32177734375,1174.6561279296875,1232.424072265625,1411.756591796875,1351.6822509765625,1166.56884765625,1355.075927734375,1148.4342041015625,1268.817138671875,2303.576904296875,1432.2528076171875,1491.53759765625,1171.8360595703125,1244.3167724609375,969.3800048828125,1627.695556640625,1595.0244140625,1239.44384765625,1916.7520751953125,1242.396484375,927.0437622070312,1128.3741455078125,870.9896850585938,1774.074951171875,684.4235229492188,1629.4141845703125,1115.0648193359375,1672.5640869140625,1818.135498046875,1560.5828857421875,1126.49951171875,2264.891845703125,819.8578491210938,1024.425537109375,1074.5989990234375,804.7105712890625,968.8074951171875,1025.2579345703125,1200.8448486328125,970.2998657226562,1975.10498046875,1348.322509765625,1310.01806640625,971.716552734375,985.555908203125,1390.228271484375,1280.5625,1981.92529296875,1185.2388916015625,817.559814453125,1398.13427734375,955.3458251953125,1063.099609375,833.5341186523438,991.8865356445312,1197.301513671875,1497.759521484375,980.0659790039062,1287.2637939453125,1220.914306640625,1496.2470703125,1466.2354736328125,1650.2779541015625,1434.2427978515625,947.5538940429688,1897.41015625,1017.9522705078125,1153.4296875,1210.1033935546875,1148.6298828125,1145.5103759765625,1684.365966796875,1066.3355712890625,925.4405517578125,1106.4215087890625,1011.1277465820312,1649.6680908203125,946.8377685546875,1273.4044189453125,1783.8062744140625,1060.6767578125,1546.177001953125,1378.0343017578125,1317.4483642578125,837.4121704101562,1589.1287841796875,1502.9105224609375,1523.0662841796875,1087.7769775390625,918.4034423828125,1165.240234375,1274.7642822265625,1322.2655029296875,1091.9285888671875,1110.775634765625,1270.807373046875,1091.122314453125,783.5245361328125,1202.8487548828125,899.4573974609375,1312.292236328125,1481.112060546875,1482.6839599609375,1404.059814453125,942.434814453125,1433.951904296875,1572.843017578125,1358.6275634765625,1475.0706787109375,1204.9691162109375,1612.9749755859375,983.8387451171875,1263.0360107421875,1254.228515625,1214.6785888671875,1699.114013671875,1328.33203125,1159.890380859375,1088.91796875,1162.864013671875,1791.2071533203125,1737.948486328125,1209.7772216796875,1094.7059326171875,933.9066772460938,1125.743408203125,1046.9227294921875,1131.388427734375,1346.804931640625,1119.732421875,1939.7174072265625,1023.77197265625,1239.5718994140625,828.8134155273438,766.5795288085938,1605.58203125,1448.7344970703125,1374.248291015625,1110.9046630859375,1255.8990478515625,1099.2779541015625,881.6034545898438,951.4112548828125,1449.0064697265625,1254.065185546875,1116.80712890625,1432.6605224609375,1281.1744384765625,1591.8177490234375,941.390380859375,1912.4326171875,1388.09716796875,1406.518310546875,1329.77197265625,1043.9906005859375,1413.6268310546875,935.939208984375,988.8319091796875,925.2020263671875,2194.57177734375,1214.061767578125,1616.1441650390625,1010.0360717773438,1435.2628173828125,1300.993896484375,1476.0899658203125,1999.6318359375,1029.7388916015625,1448.282470703125,1355.028564453125,931.271484375,1392.3917236328125,1086.1158447265625,1213.3758544921875,1442.994873046875,1345.137939453125,1095.2591552734375,1070.2825927734375,1614.4635009765625,872.6218872070312,1676.582275390625,1120.768310546875,1269.97119140625,1396.6639404296875,1196.5103759765625,953.4616088867188,1080.7962646484375,1462.17578125,1048.33935546875,1554.2445068359375,1627.8043212890625,925.122802734375,769.8594360351562,1076.2894287109375,1258.6708984375,1549.55712890625,1110.24462890625,1088.83642578125,774.1207885742188,1201.814697265625,1417.766357421875,969.3223266601562,1955.0810546875,1108.6937255859375,1055.609375,1506.585693359375,1176.642333984375,840.912109375,1348.127197265625,1303.1895751953125,1193.3277587890625,1058.5455322265625,1740.28466796875,1344.7191162109375,1114.7801513671875,1299.9720458984375,1575.9139404296875,1423.146728515625,1698.7119140625,824.45654296875,1419.0052490234375,1237.31640625,1077.8670654296875,1402.3746337890625,832.882080078125,1150.284423828125,1216.3074951171875,1341.5123291015625,985.4179077148438,1344.2628173828125,1266.1480712890625,1679.3018798828125,1470.6502685546875,1381.78076171875,1657.801513671875,1824.2769775390625,1464.4232177734375,1476.9593505859375,1179.20556640625,1126.3934326171875,1354.5543212890625,1150.097412109375,1428.4949951171875,1108.1319580078125,1310.77734375,996.530029296875,984.2632446289062,912.236083984375,1033.874267578125,927.6099853515625,1513.7254638671875,1670.0419921875,1217.9835205078125,979.9647827148438,1219.6363525390625,1103.466552734375,1242.590576171875,1534.156982421875,1539.267822265625,1255.1983642578125,1329.478759765625,1576.5594482421875,1052.3941650390625,1275.129638671875,1133.92578125,1722.8328857421875,956.1333618164062,1652.4383544921875,1264.76220703125,1843.9388427734375,997.510986328125,1483.3984375,907.4395751953125,1029.846435546875,1702.38671875,1077.9482421875,1814.6600341796875,1185.990478515625,918.4479370117188,1481.09814453125,1925.29931640625,1207.375732421875,997.5206909179688,1499.6153564453125,1035.89453125,1005.8027954101562,799.0323486328125,1526.1363525390625,1045.6519775390625,1417.6094970703125,1080.516357421875,1055.6953125,1563.097412109375,968.2677612304688,1636.801513671875,1531.169189453125,1153.68994140625,1944.4727783203125,861.7538452148438,908.171875,1213.3038330078125,1653.0367431640625,1448.980712890625,917.9357299804688,1200.6319580078125,884.9033813476562,1227.873046875,794.4302978515625,879.572998046875,1331.6663818359375,1487.7138671875],\"xaxis\":\"x\",\"yaxis\":\"y\",\"type\":\"histogram\"},{\"alignmentgroup\":\"True\",\"bingroup\":\"x\",\"hovertemplate\":\"variable=Clm Amt<br>value=%{x}<br>count=%{y}<extra></extra>\",\"legendgroup\":\"Clm Amt\",\"marker\":{\"color\":\"#EF553B\",\"pattern\":{\"shape\":\"\"}},\"name\":\"Clm Amt\",\"offsetgroup\":\"Clm Amt\",\"orientation\":\"v\",\"showlegend\":true,\"x\":[1973.0,3455.0,2883.0,5610.0,5160.0,2379.0,2535.0,56400.0,7291.0,2646.0,3091.0,5032.0,4950.0,5396.0,3158.0,5618.0,3663.0,6457.0,3348.0,9082.0,2422.0,1205.0,3134.0,2891.0,3654.0,3305.0,5470.0,4091.0,4927.0,599.0,4274.0,20883.0,13770.0,6050.0,4665.0,5761.0,2143.0,50818.0,4623.0,3548.0,5951.0,2524.0,5146.0,5782.0,1643.0,1428.0,4234.0,3698.0,4754.0,4102.0,4941.0,1381.0,58851.0,4313.0,3361.0,1168.0,3125.0,14604.0,2572.0,7551.0,3982.0,1479.0,3007.0,3822.0,2786.0,11770.0,5583.0,6386.0,1511.0,4666.0,7084.0,5722.0,7369.0,3901.0,3288.0,2667.0,6158.0,5109.0,5631.0,3965.0,2012.0,6074.0,4298.0,3343.0,4665.0,7843.0,710.0,934.0,3337.0,5301.0,4167.0,3896.0,2392.0,2932.0,726.0,2870.0,6606.0,3686.0,3340.0,706.0,2489.0,2463.0,5273.0,3350.0,3845.0,2933.0,3982.0,926.0,3762.0,4566.0,3971.0,2136.0,7058.0,5648.0,7099.0,4539.0,1299.0,6245.0,5908.0,3374.0,4363.0,9945.0,10839.0,14834.0,1556.0,5063.0,5268.0,5165.0,3193.0,2474.0,5250.0,1741.0,6491.0,663.0,3169.0,2574.0,16678.0,3106.0,4356.0,2464.0,966.0,2489.0,5324.0,2763.0,6195.0,5395.0,60838.0,3900.0,27711.0,5662.0,2943.0,3667.0,5212.0,4347.0,2297.0,3999.0,5102.0,2517.0,2976.0,5184.0,1947.0,9059.0,6049.0,3226.0,3060.0,4046.0,44916.0,4519.0,3036.0,4277.0,956.0,1026.0,2585.0,2418.0,856.0,1307.0,4804.0,4536.0,5161.0,3659.0,7161.0,6188.0,6409.0,2446.0,693.0,9105.0,5436.0,52490.0,5642.0,1639.0,7756.0,3625.0,3790.0,4308.0,5759.0,3107.0,2075.0,2468.0,3440.0,2408.0,7833.0,7619.0,3794.0,2553.0,2301.0,7506.0,5866.0,5052.0,4943.0,4892.0,5733.0,5013.0,2298.0,4753.0,7563.0,9467.0,4448.0,7123.0,6849.0,3038.0,4485.0,4691.0,3611.0,8162.0,1232.0,4321.0,4255.0,3993.0,196.0,3667.0,4704.0,2598.0,2727.0,10690.0,2033.0,4198.0,5275.0,4486.0,2651.0,4190.0,2265.0,2901.0,5831.0,3851.0,2287.0,6287.0,7800.0,2559.0,4863.0,6393.0,830.0,6612.0,917.0,3334.0,1338.0,1453.0,4326.0,7505.0,6726.0,2776.0,4367.0,13105.0,6023.0,4433.0,2964.0,3854.0,3501.0,1324.0,1683.0,4577.0,1877.0,3674.0,3269.0,2419.0,1498.0,774.0,2091.0,316.0,18139.0,5282.0,4298.0,5252.0,8748.0,471.0,13773.0,4538.0,4600.0,6693.0,5459.0,4257.0,4390.0,5967.0,3044.0,6281.0,4933.0,4363.0,6719.0,3367.0,4703.0,8843.0,5509.0,5064.0,3793.0,23154.0,3549.0,3879.0,9663.0,840.0,3726.0,19668.0,2106.0,4771.0,22244.0,5791.0,11213.0,7442.0,7481.0,4172.0,1745.0,2746.0,4307.0,535.0,5431.0,3128.0,15562.0,5295.0,3488.0,12338.0,1282.0,35009.0,2524.0,20509.0,3242.0,8000.0,4488.0,4093.0,1698.0,5521.0,4130.0,664.0,3776.0,1937.0,8623.0,4080.0,1850.0,9540.0,3425.0,2199.0,4790.0,8060.0,4506.0,2908.0,2413.0,1043.0,680.0,6145.0,9187.0,7170.0,3347.0,6969.0,1525.0,3960.0,3265.0,6481.0,6579.0,6639.0,5320.0,5109.0,4191.0,7199.0,1125.0,2575.0,7311.0,5692.0,3589.0,2856.0,38378.0,3048.0,3674.0,6088.0,3225.0,4165.0,5358.0,7052.0,2856.0,4298.0],\"xaxis\":\"x\",\"yaxis\":\"y\",\"type\":\"histogram\"}],                        {\"template\":{\"data\":{\"histogram2dcontour\":[{\"type\":\"histogram2dcontour\",\"colorbar\":{\"outlinewidth\":0,\"ticks\":\"\"},\"colorscale\":[[0.0,\"#0d0887\"],[0.1111111111111111,\"#46039f\"],[0.2222222222222222,\"#7201a8\"],[0.3333333333333333,\"#9c179e\"],[0.4444444444444444,\"#bd3786\"],[0.5555555555555556,\"#d8576b\"],[0.6666666666666666,\"#ed7953\"],[0.7777777777777778,\"#fb9f3a\"],[0.8888888888888888,\"#fdca26\"],[1.0,\"#f0f921\"]]}],\"choropleth\":[{\"type\":\"choropleth\",\"colorbar\":{\"outlinewidth\":0,\"ticks\":\"\"}}],\"histogram2d\":[{\"type\":\"histogram2d\",\"colorbar\":{\"outlinewidth\":0,\"ticks\":\"\"},\"colorscale\":[[0.0,\"#0d0887\"],[0.1111111111111111,\"#46039f\"],[0.2222222222222222,\"#7201a8\"],[0.3333333333333333,\"#9c179e\"],[0.4444444444444444,\"#bd3786\"],[0.5555555555555556,\"#d8576b\"],[0.6666666666666666,\"#ed7953\"],[0.7777777777777778,\"#fb9f3a\"],[0.8888888888888888,\"#fdca26\"],[1.0,\"#f0f921\"]]}],\"heatmap\":[{\"type\":\"heatmap\",\"colorbar\":{\"outlinewidth\":0,\"ticks\":\"\"},\"colorscale\":[[0.0,\"#0d0887\"],[0.1111111111111111,\"#46039f\"],[0.2222222222222222,\"#7201a8\"],[0.3333333333333333,\"#9c179e\"],[0.4444444444444444,\"#bd3786\"],[0.5555555555555556,\"#d8576b\"],[0.6666666666666666,\"#ed7953\"],[0.7777777777777778,\"#fb9f3a\"],[0.8888888888888888,\"#fdca26\"],[1.0,\"#f0f921\"]]}],\"heatmapgl\":[{\"type\":\"heatmapgl\",\"colorbar\":{\"outlinewidth\":0,\"ticks\":\"\"},\"colorscale\":[[0.0,\"#0d0887\"],[0.1111111111111111,\"#46039f\"],[0.2222222222222222,\"#7201a8\"],[0.3333333333333333,\"#9c179e\"],[0.4444444444444444,\"#bd3786\"],[0.5555555555555556,\"#d8576b\"],[0.6666666666666666,\"#ed7953\"],[0.7777777777777778,\"#fb9f3a\"],[0.8888888888888888,\"#fdca26\"],[1.0,\"#f0f921\"]]}],\"contourcarpet\":[{\"type\":\"contourcarpet\",\"colorbar\":{\"outlinewidth\":0,\"ticks\":\"\"}}],\"contour\":[{\"type\":\"contour\",\"colorbar\":{\"outlinewidth\":0,\"ticks\":\"\"},\"colorscale\":[[0.0,\"#0d0887\"],[0.1111111111111111,\"#46039f\"],[0.2222222222222222,\"#7201a8\"],[0.3333333333333333,\"#9c179e\"],[0.4444444444444444,\"#bd3786\"],[0.5555555555555556,\"#d8576b\"],[0.6666666666666666,\"#ed7953\"],[0.7777777777777778,\"#fb9f3a\"],[0.8888888888888888,\"#fdca26\"],[1.0,\"#f0f921\"]]}],\"surface\":[{\"type\":\"surface\",\"colorbar\":{\"outlinewidth\":0,\"ticks\":\"\"},\"colorscale\":[[0.0,\"#0d0887\"],[0.1111111111111111,\"#46039f\"],[0.2222222222222222,\"#7201a8\"],[0.3333333333333333,\"#9c179e\"],[0.4444444444444444,\"#bd3786\"],[0.5555555555555556,\"#d8576b\"],[0.6666666666666666,\"#ed7953\"],[0.7777777777777778,\"#fb9f3a\"],[0.8888888888888888,\"#fdca26\"],[1.0,\"#f0f921\"]]}],\"mesh3d\":[{\"type\":\"mesh3d\",\"colorbar\":{\"outlinewidth\":0,\"ticks\":\"\"}}],\"scatter\":[{\"fillpattern\":{\"fillmode\":\"overlay\",\"size\":10,\"solidity\":0.2},\"type\":\"scatter\"}],\"parcoords\":[{\"type\":\"parcoords\",\"line\":{\"colorbar\":{\"outlinewidth\":0,\"ticks\":\"\"}}}],\"scatterpolargl\":[{\"type\":\"scatterpolargl\",\"marker\":{\"colorbar\":{\"outlinewidth\":0,\"ticks\":\"\"}}}],\"bar\":[{\"error_x\":{\"color\":\"#2a3f5f\"},\"error_y\":{\"color\":\"#2a3f5f\"},\"marker\":{\"line\":{\"color\":\"#E5ECF6\",\"width\":0.5},\"pattern\":{\"fillmode\":\"overlay\",\"size\":10,\"solidity\":0.2}},\"type\":\"bar\"}],\"scattergeo\":[{\"type\":\"scattergeo\",\"marker\":{\"colorbar\":{\"outlinewidth\":0,\"ticks\":\"\"}}}],\"scatterpolar\":[{\"type\":\"scatterpolar\",\"marker\":{\"colorbar\":{\"outlinewidth\":0,\"ticks\":\"\"}}}],\"histogram\":[{\"marker\":{\"pattern\":{\"fillmode\":\"overlay\",\"size\":10,\"solidity\":0.2}},\"type\":\"histogram\"}],\"scattergl\":[{\"type\":\"scattergl\",\"marker\":{\"colorbar\":{\"outlinewidth\":0,\"ticks\":\"\"}}}],\"scatter3d\":[{\"type\":\"scatter3d\",\"line\":{\"colorbar\":{\"outlinewidth\":0,\"ticks\":\"\"}},\"marker\":{\"colorbar\":{\"outlinewidth\":0,\"ticks\":\"\"}}}],\"scattermapbox\":[{\"type\":\"scattermapbox\",\"marker\":{\"colorbar\":{\"outlinewidth\":0,\"ticks\":\"\"}}}],\"scatterternary\":[{\"type\":\"scatterternary\",\"marker\":{\"colorbar\":{\"outlinewidth\":0,\"ticks\":\"\"}}}],\"scattercarpet\":[{\"type\":\"scattercarpet\",\"marker\":{\"colorbar\":{\"outlinewidth\":0,\"ticks\":\"\"}}}],\"carpet\":[{\"aaxis\":{\"endlinecolor\":\"#2a3f5f\",\"gridcolor\":\"white\",\"linecolor\":\"white\",\"minorgridcolor\":\"white\",\"startlinecolor\":\"#2a3f5f\"},\"baxis\":{\"endlinecolor\":\"#2a3f5f\",\"gridcolor\":\"white\",\"linecolor\":\"white\",\"minorgridcolor\":\"white\",\"startlinecolor\":\"#2a3f5f\"},\"type\":\"carpet\"}],\"table\":[{\"cells\":{\"fill\":{\"color\":\"#EBF0F8\"},\"line\":{\"color\":\"white\"}},\"header\":{\"fill\":{\"color\":\"#C8D4E3\"},\"line\":{\"color\":\"white\"}},\"type\":\"table\"}],\"barpolar\":[{\"marker\":{\"line\":{\"color\":\"#E5ECF6\",\"width\":0.5},\"pattern\":{\"fillmode\":\"overlay\",\"size\":10,\"solidity\":0.2}},\"type\":\"barpolar\"}],\"pie\":[{\"automargin\":true,\"type\":\"pie\"}]},\"layout\":{\"autotypenumbers\":\"strict\",\"colorway\":[\"#636efa\",\"#EF553B\",\"#00cc96\",\"#ab63fa\",\"#FFA15A\",\"#19d3f3\",\"#FF6692\",\"#B6E880\",\"#FF97FF\",\"#FECB52\"],\"font\":{\"color\":\"#2a3f5f\"},\"hovermode\":\"closest\",\"hoverlabel\":{\"align\":\"left\"},\"paper_bgcolor\":\"white\",\"plot_bgcolor\":\"#E5ECF6\",\"polar\":{\"bgcolor\":\"#E5ECF6\",\"angularaxis\":{\"gridcolor\":\"white\",\"linecolor\":\"white\",\"ticks\":\"\"},\"radialaxis\":{\"gridcolor\":\"white\",\"linecolor\":\"white\",\"ticks\":\"\"}},\"ternary\":{\"bgcolor\":\"#E5ECF6\",\"aaxis\":{\"gridcolor\":\"white\",\"linecolor\":\"white\",\"ticks\":\"\"},\"baxis\":{\"gridcolor\":\"white\",\"linecolor\":\"white\",\"ticks\":\"\"},\"caxis\":{\"gridcolor\":\"white\",\"linecolor\":\"white\",\"ticks\":\"\"}},\"coloraxis\":{\"colorbar\":{\"outlinewidth\":0,\"ticks\":\"\"}},\"colorscale\":{\"sequential\":[[0.0,\"#0d0887\"],[0.1111111111111111,\"#46039f\"],[0.2222222222222222,\"#7201a8\"],[0.3333333333333333,\"#9c179e\"],[0.4444444444444444,\"#bd3786\"],[0.5555555555555556,\"#d8576b\"],[0.6666666666666666,\"#ed7953\"],[0.7777777777777778,\"#fb9f3a\"],[0.8888888888888888,\"#fdca26\"],[1.0,\"#f0f921\"]],\"sequentialminus\":[[0.0,\"#0d0887\"],[0.1111111111111111,\"#46039f\"],[0.2222222222222222,\"#7201a8\"],[0.3333333333333333,\"#9c179e\"],[0.4444444444444444,\"#bd3786\"],[0.5555555555555556,\"#d8576b\"],[0.6666666666666666,\"#ed7953\"],[0.7777777777777778,\"#fb9f3a\"],[0.8888888888888888,\"#fdca26\"],[1.0,\"#f0f921\"]],\"diverging\":[[0,\"#8e0152\"],[0.1,\"#c51b7d\"],[0.2,\"#de77ae\"],[0.3,\"#f1b6da\"],[0.4,\"#fde0ef\"],[0.5,\"#f7f7f7\"],[0.6,\"#e6f5d0\"],[0.7,\"#b8e186\"],[0.8,\"#7fbc41\"],[0.9,\"#4d9221\"],[1,\"#276419\"]]},\"xaxis\":{\"gridcolor\":\"white\",\"linecolor\":\"white\",\"ticks\":\"\",\"title\":{\"standoff\":15},\"zerolinecolor\":\"white\",\"automargin\":true,\"zerolinewidth\":2},\"yaxis\":{\"gridcolor\":\"white\",\"linecolor\":\"white\",\"ticks\":\"\",\"title\":{\"standoff\":15},\"zerolinecolor\":\"white\",\"automargin\":true,\"zerolinewidth\":2},\"scene\":{\"xaxis\":{\"backgroundcolor\":\"#E5ECF6\",\"gridcolor\":\"white\",\"linecolor\":\"white\",\"showbackground\":true,\"ticks\":\"\",\"zerolinecolor\":\"white\",\"gridwidth\":2},\"yaxis\":{\"backgroundcolor\":\"#E5ECF6\",\"gridcolor\":\"white\",\"linecolor\":\"white\",\"showbackground\":true,\"ticks\":\"\",\"zerolinecolor\":\"white\",\"gridwidth\":2},\"zaxis\":{\"backgroundcolor\":\"#E5ECF6\",\"gridcolor\":\"white\",\"linecolor\":\"white\",\"showbackground\":true,\"ticks\":\"\",\"zerolinecolor\":\"white\",\"gridwidth\":2}},\"shapedefaults\":{\"line\":{\"color\":\"#2a3f5f\"}},\"annotationdefaults\":{\"arrowcolor\":\"#2a3f5f\",\"arrowhead\":0,\"arrowwidth\":1},\"geo\":{\"bgcolor\":\"white\",\"landcolor\":\"#E5ECF6\",\"subunitcolor\":\"white\",\"showland\":true,\"showlakes\":true,\"lakecolor\":\"white\"},\"title\":{\"x\":0.05},\"mapbox\":{\"style\":\"light\"}}},\"xaxis\":{\"anchor\":\"y\",\"domain\":[0.0,1.0],\"title\":{\"text\":\"value\"}},\"yaxis\":{\"anchor\":\"x\",\"domain\":[0.0,1.0],\"title\":{\"text\":\"count\"}},\"legend\":{\"title\":{\"text\":\"variable\"},\"tracegroupgap\":0},\"margin\":{\"t\":60},\"barmode\":\"relative\"},                        {\"responsive\": true}                    ).then(function(){\n",
       "                            \n",
       "var gd = document.getElementById('0cc3cb5c-43be-4ad0-8b1b-6eab4f30cbcb');\n",
       "var x = new MutationObserver(function (mutations, observer) {{\n",
       "        var display = window.getComputedStyle(gd).display;\n",
       "        if (!display || display === 'none') {{\n",
       "            console.log([gd, 'removed!']);\n",
       "            Plotly.purge(gd);\n",
       "            observer.disconnect();\n",
       "        }}\n",
       "}});\n",
       "\n",
       "// Listen for the removal of the full notebook cells\n",
       "var notebookContainer = gd.closest('#notebook-container');\n",
       "if (notebookContainer) {{\n",
       "    x.observe(notebookContainer, {childList: true});\n",
       "}}\n",
       "\n",
       "// Listen for the clearing of the current output cell\n",
       "var outputEl = gd.closest('.output');\n",
       "if (outputEl) {{\n",
       "    x.observe(outputEl, {childList: true});\n",
       "}}\n",
       "\n",
       "                        })                };                });            </script>        </div>"
      ]
     },
     "metadata": {},
     "output_type": "display_data"
    }
   ],
   "source": [
    "prob_data = pd.DataFrame({\"Clm Amt\" : X_test_CLM_AMT,\n",
    "                          \"Base Prim\" : base_prim})\n",
    "\n",
    "#prob_data2 = prob_data[prob_data.Actual < 10000]\n",
    "fig = px.histogram(prob_data, x=[\"Base Prim\",\"Clm Amt\"])\n",
    "fig.show()"
   ]
  },
  {
   "cell_type": "code",
   "execution_count": 21,
   "id": "13e83822",
   "metadata": {},
   "outputs": [
    {
     "data": {
      "application/vnd.plotly.v1+json": {
       "config": {
        "plotlyServerURL": "https://plot.ly"
       },
       "data": [
        {
         "hovertemplate": "variable=Base Prim<br>value=%{x}<br>index=%{y}<extra></extra>",
         "legendgroup": "Base Prim",
         "marker": {
          "color": "#636efa",
          "symbol": "circle"
         },
         "mode": "markers",
         "name": "Base Prim",
         "orientation": "h",
         "showlegend": true,
         "type": "scatter",
         "x": [
          1285.695556640625,
          955.201416015625,
          1467.8936767578125,
          1195.4840087890625,
          1811.7021484375,
          1408.7764892578125,
          983.7198486328125,
          1447.91455078125,
          1382.916015625,
          1404.6173095703125,
          1261.6480712890625,
          1171.5347900390625,
          1052.3349609375,
          1346.9580078125,
          1172.3533935546875,
          1252.80712890625,
          1270.957763671875,
          943.7510375976562,
          1234.794189453125,
          1589.8792724609375,
          1398.010986328125,
          1402.3157958984375,
          1398.223876953125,
          1247.279296875,
          1025.2991943359375,
          1232.00146484375,
          956.6519165039062,
          1325.8980712890625,
          1331.9013671875,
          969.2579345703125,
          1524.4124755859375,
          1508.6405029296875,
          1054.422119140625,
          1001.1460571289062,
          1576.8707275390625,
          1424.816650390625,
          1011.9195556640625,
          1469.6304931640625,
          1504.2550048828125,
          1186.8458251953125,
          1603.189453125,
          1020.3890380859375,
          1143.0875244140625,
          1061.885986328125,
          1320.512939453125,
          963.0104370117188,
          1231.1656494140625,
          1199.835693359375,
          1257.0225830078125,
          1070.6732177734375,
          1192.0623779296875,
          1487.8218994140625,
          1246.7557373046875,
          1504.5821533203125,
          2207.84423828125,
          1067.610595703125,
          1054.879638671875,
          1755.572265625,
          917.8462524414062,
          989.9210815429688,
          1021.0386962890625,
          1287.4742431640625,
          1438.334228515625,
          1832.764892578125,
          1138.7611083984375,
          1584.79248046875,
          905.7037353515625,
          1109.9449462890625,
          1634.54296875,
          906.8453979492188,
          1346.649658203125,
          1395.4322509765625,
          900.137939453125,
          1068.831298828125,
          2106.165771484375,
          1311.32177734375,
          1174.6561279296875,
          1232.424072265625,
          1411.756591796875,
          1351.6822509765625,
          1166.56884765625,
          1355.075927734375,
          1148.4342041015625,
          1268.817138671875,
          2303.576904296875,
          1432.2528076171875,
          1491.53759765625,
          1171.8360595703125,
          1244.3167724609375,
          969.3800048828125,
          1627.695556640625,
          1595.0244140625,
          1239.44384765625,
          1916.7520751953125,
          1242.396484375,
          927.0437622070312,
          1128.3741455078125,
          870.9896850585938,
          1774.074951171875,
          684.4235229492188,
          1629.4141845703125,
          1115.0648193359375,
          1672.5640869140625,
          1818.135498046875,
          1560.5828857421875,
          1126.49951171875,
          2264.891845703125,
          819.8578491210938,
          1024.425537109375,
          1074.5989990234375,
          804.7105712890625,
          968.8074951171875,
          1025.2579345703125,
          1200.8448486328125,
          970.2998657226562,
          1975.10498046875,
          1348.322509765625,
          1310.01806640625,
          971.716552734375,
          985.555908203125,
          1390.228271484375,
          1280.5625,
          1981.92529296875,
          1185.2388916015625,
          817.559814453125,
          1398.13427734375,
          955.3458251953125,
          1063.099609375,
          833.5341186523438,
          991.8865356445312,
          1197.301513671875,
          1497.759521484375,
          980.0659790039062,
          1287.2637939453125,
          1220.914306640625,
          1496.2470703125,
          1466.2354736328125,
          1650.2779541015625,
          1434.2427978515625,
          947.5538940429688,
          1897.41015625,
          1017.9522705078125,
          1153.4296875,
          1210.1033935546875,
          1148.6298828125,
          1145.5103759765625,
          1684.365966796875,
          1066.3355712890625,
          925.4405517578125,
          1106.4215087890625,
          1011.1277465820312,
          1649.6680908203125,
          946.8377685546875,
          1273.4044189453125,
          1783.8062744140625,
          1060.6767578125,
          1546.177001953125,
          1378.0343017578125,
          1317.4483642578125,
          837.4121704101562,
          1589.1287841796875,
          1502.9105224609375,
          1523.0662841796875,
          1087.7769775390625,
          918.4034423828125,
          1165.240234375,
          1274.7642822265625,
          1322.2655029296875,
          1091.9285888671875,
          1110.775634765625,
          1270.807373046875,
          1091.122314453125,
          783.5245361328125,
          1202.8487548828125,
          899.4573974609375,
          1312.292236328125,
          1481.112060546875,
          1482.6839599609375,
          1404.059814453125,
          942.434814453125,
          1433.951904296875,
          1572.843017578125,
          1358.6275634765625,
          1475.0706787109375,
          1204.9691162109375,
          1612.9749755859375,
          983.8387451171875,
          1263.0360107421875,
          1254.228515625,
          1214.6785888671875,
          1699.114013671875,
          1328.33203125,
          1159.890380859375,
          1088.91796875,
          1162.864013671875,
          1791.2071533203125,
          1737.948486328125,
          1209.7772216796875,
          1094.7059326171875,
          933.9066772460938,
          1125.743408203125,
          1046.9227294921875,
          1131.388427734375,
          1346.804931640625,
          1119.732421875,
          1939.7174072265625,
          1023.77197265625,
          1239.5718994140625,
          828.8134155273438,
          766.5795288085938,
          1605.58203125,
          1448.7344970703125,
          1374.248291015625,
          1110.9046630859375,
          1255.8990478515625,
          1099.2779541015625,
          881.6034545898438,
          951.4112548828125,
          1449.0064697265625,
          1254.065185546875,
          1116.80712890625,
          1432.6605224609375,
          1281.1744384765625,
          1591.8177490234375,
          941.390380859375,
          1912.4326171875,
          1388.09716796875,
          1406.518310546875,
          1329.77197265625,
          1043.9906005859375,
          1413.6268310546875,
          935.939208984375,
          988.8319091796875,
          925.2020263671875,
          2194.57177734375,
          1214.061767578125,
          1616.1441650390625,
          1010.0360717773438,
          1435.2628173828125,
          1300.993896484375,
          1476.0899658203125,
          1999.6318359375,
          1029.7388916015625,
          1448.282470703125,
          1355.028564453125,
          931.271484375,
          1392.3917236328125,
          1086.1158447265625,
          1213.3758544921875,
          1442.994873046875,
          1345.137939453125,
          1095.2591552734375,
          1070.2825927734375,
          1614.4635009765625,
          872.6218872070312,
          1676.582275390625,
          1120.768310546875,
          1269.97119140625,
          1396.6639404296875,
          1196.5103759765625,
          953.4616088867188,
          1080.7962646484375,
          1462.17578125,
          1048.33935546875,
          1554.2445068359375,
          1627.8043212890625,
          925.122802734375,
          769.8594360351562,
          1076.2894287109375,
          1258.6708984375,
          1549.55712890625,
          1110.24462890625,
          1088.83642578125,
          774.1207885742188,
          1201.814697265625,
          1417.766357421875,
          969.3223266601562,
          1955.0810546875,
          1108.6937255859375,
          1055.609375,
          1506.585693359375,
          1176.642333984375,
          840.912109375,
          1348.127197265625,
          1303.1895751953125,
          1193.3277587890625,
          1058.5455322265625,
          1740.28466796875,
          1344.7191162109375,
          1114.7801513671875,
          1299.9720458984375,
          1575.9139404296875,
          1423.146728515625,
          1698.7119140625,
          824.45654296875,
          1419.0052490234375,
          1237.31640625,
          1077.8670654296875,
          1402.3746337890625,
          832.882080078125,
          1150.284423828125,
          1216.3074951171875,
          1341.5123291015625,
          985.4179077148438,
          1344.2628173828125,
          1266.1480712890625,
          1679.3018798828125,
          1470.6502685546875,
          1381.78076171875,
          1657.801513671875,
          1824.2769775390625,
          1464.4232177734375,
          1476.9593505859375,
          1179.20556640625,
          1126.3934326171875,
          1354.5543212890625,
          1150.097412109375,
          1428.4949951171875,
          1108.1319580078125,
          1310.77734375,
          996.530029296875,
          984.2632446289062,
          912.236083984375,
          1033.874267578125,
          927.6099853515625,
          1513.7254638671875,
          1670.0419921875,
          1217.9835205078125,
          979.9647827148438,
          1219.6363525390625,
          1103.466552734375,
          1242.590576171875,
          1534.156982421875,
          1539.267822265625,
          1255.1983642578125,
          1329.478759765625,
          1576.5594482421875,
          1052.3941650390625,
          1275.129638671875,
          1133.92578125,
          1722.8328857421875,
          956.1333618164062,
          1652.4383544921875,
          1264.76220703125,
          1843.9388427734375,
          997.510986328125,
          1483.3984375,
          907.4395751953125,
          1029.846435546875,
          1702.38671875,
          1077.9482421875,
          1814.6600341796875,
          1185.990478515625,
          918.4479370117188,
          1481.09814453125,
          1925.29931640625,
          1207.375732421875,
          997.5206909179688,
          1499.6153564453125,
          1035.89453125,
          1005.8027954101562,
          799.0323486328125,
          1526.1363525390625,
          1045.6519775390625,
          1417.6094970703125,
          1080.516357421875,
          1055.6953125,
          1563.097412109375,
          968.2677612304688,
          1636.801513671875,
          1531.169189453125,
          1153.68994140625,
          1944.4727783203125,
          861.7538452148438,
          908.171875,
          1213.3038330078125,
          1653.0367431640625,
          1448.980712890625,
          917.9357299804688,
          1200.6319580078125,
          884.9033813476562,
          1227.873046875,
          794.4302978515625,
          879.572998046875,
          1331.6663818359375,
          1487.7138671875
         ],
         "xaxis": "x",
         "y": [
          4898,
          5712,
          7122,
          6006,
          3961,
          4609,
          5627,
          4739,
          5314,
          3631,
          2734,
          7193,
          4073,
          2429,
          2759,
          5761,
          2811,
          6929,
          1494,
          6816,
          4818,
          2728,
          4499,
          266,
          6561,
          6859,
          3528,
          7430,
          5703,
          3265,
          6998,
          1916,
          4676,
          4099,
          3873,
          5424,
          86,
          2342,
          5422,
          4457,
          490,
          6005,
          1730,
          3856,
          5241,
          3864,
          2270,
          5123,
          963,
          3705,
          7183,
          4417,
          5374,
          411,
          1358,
          6463,
          5020,
          2931,
          3883,
          674,
          6941,
          3323,
          1980,
          5990,
          1620,
          1183,
          2487,
          1778,
          5189,
          5153,
          1960,
          556,
          4717,
          2304,
          7491,
          4304,
          115,
          5805,
          4826,
          3009,
          6032,
          3192,
          1798,
          1156,
          5554,
          5611,
          5834,
          4747,
          748,
          2315,
          7149,
          4244,
          2959,
          2934,
          6442,
          7393,
          851,
          5989,
          2286,
          1683,
          4941,
          3089,
          6238,
          6021,
          3928,
          6720,
          5444,
          3718,
          3215,
          2952,
          772,
          2969,
          4445,
          6054,
          6738,
          3058,
          3610,
          325,
          4868,
          6311,
          5771,
          4553,
          3427,
          309,
          3374,
          5231,
          6844,
          4070,
          1469,
          2778,
          2795,
          5165,
          5316,
          2971,
          5687,
          2321,
          2240,
          7465,
          6647,
          1171,
          3712,
          2140,
          4756,
          4469,
          230,
          263,
          501,
          2672,
          5819,
          5217,
          6654,
          2523,
          4439,
          1312,
          2254,
          7388,
          5372,
          6133,
          5679,
          3324,
          3830,
          4295,
          6128,
          5528,
          6987,
          392,
          2746,
          2009,
          1741,
          1126,
          3664,
          2975,
          3223,
          3965,
          2630,
          7335,
          4493,
          5715,
          6302,
          5506,
          434,
          2712,
          3114,
          1803,
          6988,
          3776,
          7281,
          6811,
          5253,
          4091,
          6967,
          2851,
          7096,
          5849,
          5488,
          1505,
          6075,
          5360,
          1464,
          615,
          6008,
          7179,
          3237,
          734,
          7427,
          7367,
          5489,
          7260,
          1253,
          4477,
          202,
          4116,
          2810,
          7404,
          4478,
          1495,
          5197,
          1595,
          701,
          516,
          5094,
          5279,
          1959,
          1084,
          5997,
          6050,
          6952,
          2016,
          3353,
          5481,
          1477,
          2531,
          3064,
          4742,
          3294,
          5944,
          1689,
          23,
          3963,
          7429,
          3024,
          4161,
          5493,
          6363,
          229,
          97,
          3765,
          4555,
          7363,
          3153,
          5801,
          4541,
          474,
          3504,
          1693,
          1744,
          4337,
          5975,
          2379,
          6827,
          5055,
          74,
          5810,
          3954,
          5068,
          464,
          2056,
          4937,
          6033,
          3799,
          3331,
          3390,
          2950,
          3415,
          1337,
          1720,
          3348,
          1389,
          6191,
          5717,
          3785,
          359,
          7083,
          4807,
          5168,
          5008,
          6812,
          5765,
          1674,
          413,
          2812,
          1241,
          1666,
          3749,
          2250,
          5335,
          3675,
          3905,
          6677,
          2026,
          2690,
          2771,
          6636,
          5211,
          5416,
          560,
          2632,
          5505,
          4851,
          2019,
          5287,
          4793,
          1025,
          4285,
          4726,
          5162,
          4390,
          4839,
          4313,
          5354,
          2449,
          3893,
          4962,
          4533,
          2482,
          1257,
          4889,
          3793,
          6065,
          6159,
          2490,
          1614,
          1015,
          4234,
          684,
          5517,
          3146,
          6435,
          5553,
          1210,
          3912,
          2902,
          5140,
          2868,
          2626,
          1627,
          5509,
          3691,
          3278,
          5776,
          7357,
          4344,
          6565,
          7237,
          3366,
          2520,
          2600,
          7196,
          4546,
          6917,
          6745,
          3439,
          3027,
          4961,
          4959,
          6516,
          1560,
          523,
          891,
          5399,
          4690,
          3629,
          2427,
          1923,
          5019,
          2828,
          5083,
          897,
          3171,
          5985,
          4167,
          6380,
          6178,
          6523,
          1012,
          2398
         ],
         "yaxis": "y"
        },
        {
         "hovertemplate": "variable=Clm Amt<br>value=%{x}<br>index=%{y}<extra></extra>",
         "legendgroup": "Clm Amt",
         "marker": {
          "color": "#EF553B",
          "symbol": "circle"
         },
         "mode": "markers",
         "name": "Clm Amt",
         "orientation": "h",
         "showlegend": true,
         "type": "scatter",
         "x": [
          1973,
          3455,
          2883,
          5610,
          5160,
          2379,
          2535,
          56400,
          7291,
          2646,
          3091,
          5032,
          4950,
          5396,
          3158,
          5618,
          3663,
          6457,
          3348,
          9082,
          2422,
          1205,
          3134,
          2891,
          3654,
          3305,
          5470,
          4091,
          4927,
          599,
          4274,
          20883,
          13770,
          6050,
          4665,
          5761,
          2143,
          50818,
          4623,
          3548,
          5951,
          2524,
          5146,
          5782,
          1643,
          1428,
          4234,
          3698,
          4754,
          4102,
          4941,
          1381,
          58851,
          4313,
          3361,
          1168,
          3125,
          14604,
          2572,
          7551,
          3982,
          1479,
          3007,
          3822,
          2786,
          11770,
          5583,
          6386,
          1511,
          4666,
          7084,
          5722,
          7369,
          3901,
          3288,
          2667,
          6158,
          5109,
          5631,
          3965,
          2012,
          6074,
          4298,
          3343,
          4665,
          7843,
          710,
          934,
          3337,
          5301,
          4167,
          3896,
          2392,
          2932,
          726,
          2870,
          6606,
          3686,
          3340,
          706,
          2489,
          2463,
          5273,
          3350,
          3845,
          2933,
          3982,
          926,
          3762,
          4566,
          3971,
          2136,
          7058,
          5648,
          7099,
          4539,
          1299,
          6245,
          5908,
          3374,
          4363,
          9945,
          10839,
          14834,
          1556,
          5063,
          5268,
          5165,
          3193,
          2474,
          5250,
          1741,
          6491,
          663,
          3169,
          2574,
          16678,
          3106,
          4356,
          2464,
          966,
          2489,
          5324,
          2763,
          6195,
          5395,
          60838,
          3900,
          27711,
          5662,
          2943,
          3667,
          5212,
          4347,
          2297,
          3999,
          5102,
          2517,
          2976,
          5184,
          1947,
          9059,
          6049,
          3226,
          3060,
          4046,
          44916,
          4519,
          3036,
          4277,
          956,
          1026,
          2585,
          2418,
          856,
          1307,
          4804,
          4536,
          5161,
          3659,
          7161,
          6188,
          6409,
          2446,
          693,
          9105,
          5436,
          52490,
          5642,
          1639,
          7756,
          3625,
          3790,
          4308,
          5759,
          3107,
          2075,
          2468,
          3440,
          2408,
          7833,
          7619,
          3794,
          2553,
          2301,
          7506,
          5866,
          5052,
          4943,
          4892,
          5733,
          5013,
          2298,
          4753,
          7563,
          9467,
          4448,
          7123,
          6849,
          3038,
          4485,
          4691,
          3611,
          8162,
          1232,
          4321,
          4255,
          3993,
          196,
          3667,
          4704,
          2598,
          2727,
          10690,
          2033,
          4198,
          5275,
          4486,
          2651,
          4190,
          2265,
          2901,
          5831,
          3851,
          2287,
          6287,
          7800,
          2559,
          4863,
          6393,
          830,
          6612,
          917,
          3334,
          1338,
          1453,
          4326,
          7505,
          6726,
          2776,
          4367,
          13105,
          6023,
          4433,
          2964,
          3854,
          3501,
          1324,
          1683,
          4577,
          1877,
          3674,
          3269,
          2419,
          1498,
          774,
          2091,
          316,
          18139,
          5282,
          4298,
          5252,
          8748,
          471,
          13773,
          4538,
          4600,
          6693,
          5459,
          4257,
          4390,
          5967,
          3044,
          6281,
          4933,
          4363,
          6719,
          3367,
          4703,
          8843,
          5509,
          5064,
          3793,
          23154,
          3549,
          3879,
          9663,
          840,
          3726,
          19668,
          2106,
          4771,
          22244,
          5791,
          11213,
          7442,
          7481,
          4172,
          1745,
          2746,
          4307,
          535,
          5431,
          3128,
          15562,
          5295,
          3488,
          12338,
          1282,
          35009,
          2524,
          20509,
          3242,
          8000,
          4488,
          4093,
          1698,
          5521,
          4130,
          664,
          3776,
          1937,
          8623,
          4080,
          1850,
          9540,
          3425,
          2199,
          4790,
          8060,
          4506,
          2908,
          2413,
          1043,
          680,
          6145,
          9187,
          7170,
          3347,
          6969,
          1525,
          3960,
          3265,
          6481,
          6579,
          6639,
          5320,
          5109,
          4191,
          7199,
          1125,
          2575,
          7311,
          5692,
          3589,
          2856,
          38378,
          3048,
          3674,
          6088,
          3225,
          4165,
          5358,
          7052,
          2856,
          4298
         ],
         "xaxis": "x",
         "y": [
          4898,
          5712,
          7122,
          6006,
          3961,
          4609,
          5627,
          4739,
          5314,
          3631,
          2734,
          7193,
          4073,
          2429,
          2759,
          5761,
          2811,
          6929,
          1494,
          6816,
          4818,
          2728,
          4499,
          266,
          6561,
          6859,
          3528,
          7430,
          5703,
          3265,
          6998,
          1916,
          4676,
          4099,
          3873,
          5424,
          86,
          2342,
          5422,
          4457,
          490,
          6005,
          1730,
          3856,
          5241,
          3864,
          2270,
          5123,
          963,
          3705,
          7183,
          4417,
          5374,
          411,
          1358,
          6463,
          5020,
          2931,
          3883,
          674,
          6941,
          3323,
          1980,
          5990,
          1620,
          1183,
          2487,
          1778,
          5189,
          5153,
          1960,
          556,
          4717,
          2304,
          7491,
          4304,
          115,
          5805,
          4826,
          3009,
          6032,
          3192,
          1798,
          1156,
          5554,
          5611,
          5834,
          4747,
          748,
          2315,
          7149,
          4244,
          2959,
          2934,
          6442,
          7393,
          851,
          5989,
          2286,
          1683,
          4941,
          3089,
          6238,
          6021,
          3928,
          6720,
          5444,
          3718,
          3215,
          2952,
          772,
          2969,
          4445,
          6054,
          6738,
          3058,
          3610,
          325,
          4868,
          6311,
          5771,
          4553,
          3427,
          309,
          3374,
          5231,
          6844,
          4070,
          1469,
          2778,
          2795,
          5165,
          5316,
          2971,
          5687,
          2321,
          2240,
          7465,
          6647,
          1171,
          3712,
          2140,
          4756,
          4469,
          230,
          263,
          501,
          2672,
          5819,
          5217,
          6654,
          2523,
          4439,
          1312,
          2254,
          7388,
          5372,
          6133,
          5679,
          3324,
          3830,
          4295,
          6128,
          5528,
          6987,
          392,
          2746,
          2009,
          1741,
          1126,
          3664,
          2975,
          3223,
          3965,
          2630,
          7335,
          4493,
          5715,
          6302,
          5506,
          434,
          2712,
          3114,
          1803,
          6988,
          3776,
          7281,
          6811,
          5253,
          4091,
          6967,
          2851,
          7096,
          5849,
          5488,
          1505,
          6075,
          5360,
          1464,
          615,
          6008,
          7179,
          3237,
          734,
          7427,
          7367,
          5489,
          7260,
          1253,
          4477,
          202,
          4116,
          2810,
          7404,
          4478,
          1495,
          5197,
          1595,
          701,
          516,
          5094,
          5279,
          1959,
          1084,
          5997,
          6050,
          6952,
          2016,
          3353,
          5481,
          1477,
          2531,
          3064,
          4742,
          3294,
          5944,
          1689,
          23,
          3963,
          7429,
          3024,
          4161,
          5493,
          6363,
          229,
          97,
          3765,
          4555,
          7363,
          3153,
          5801,
          4541,
          474,
          3504,
          1693,
          1744,
          4337,
          5975,
          2379,
          6827,
          5055,
          74,
          5810,
          3954,
          5068,
          464,
          2056,
          4937,
          6033,
          3799,
          3331,
          3390,
          2950,
          3415,
          1337,
          1720,
          3348,
          1389,
          6191,
          5717,
          3785,
          359,
          7083,
          4807,
          5168,
          5008,
          6812,
          5765,
          1674,
          413,
          2812,
          1241,
          1666,
          3749,
          2250,
          5335,
          3675,
          3905,
          6677,
          2026,
          2690,
          2771,
          6636,
          5211,
          5416,
          560,
          2632,
          5505,
          4851,
          2019,
          5287,
          4793,
          1025,
          4285,
          4726,
          5162,
          4390,
          4839,
          4313,
          5354,
          2449,
          3893,
          4962,
          4533,
          2482,
          1257,
          4889,
          3793,
          6065,
          6159,
          2490,
          1614,
          1015,
          4234,
          684,
          5517,
          3146,
          6435,
          5553,
          1210,
          3912,
          2902,
          5140,
          2868,
          2626,
          1627,
          5509,
          3691,
          3278,
          5776,
          7357,
          4344,
          6565,
          7237,
          3366,
          2520,
          2600,
          7196,
          4546,
          6917,
          6745,
          3439,
          3027,
          4961,
          4959,
          6516,
          1560,
          523,
          891,
          5399,
          4690,
          3629,
          2427,
          1923,
          5019,
          2828,
          5083,
          897,
          3171,
          5985,
          4167,
          6380,
          6178,
          6523,
          1012,
          2398
         ],
         "yaxis": "y"
        }
       ],
       "layout": {
        "legend": {
         "title": {
          "text": "variable"
         },
         "tracegroupgap": 0
        },
        "margin": {
         "t": 60
        },
        "template": {
         "data": {
          "bar": [
           {
            "error_x": {
             "color": "#2a3f5f"
            },
            "error_y": {
             "color": "#2a3f5f"
            },
            "marker": {
             "line": {
              "color": "#E5ECF6",
              "width": 0.5
             },
             "pattern": {
              "fillmode": "overlay",
              "size": 10,
              "solidity": 0.2
             }
            },
            "type": "bar"
           }
          ],
          "barpolar": [
           {
            "marker": {
             "line": {
              "color": "#E5ECF6",
              "width": 0.5
             },
             "pattern": {
              "fillmode": "overlay",
              "size": 10,
              "solidity": 0.2
             }
            },
            "type": "barpolar"
           }
          ],
          "carpet": [
           {
            "aaxis": {
             "endlinecolor": "#2a3f5f",
             "gridcolor": "white",
             "linecolor": "white",
             "minorgridcolor": "white",
             "startlinecolor": "#2a3f5f"
            },
            "baxis": {
             "endlinecolor": "#2a3f5f",
             "gridcolor": "white",
             "linecolor": "white",
             "minorgridcolor": "white",
             "startlinecolor": "#2a3f5f"
            },
            "type": "carpet"
           }
          ],
          "choropleth": [
           {
            "colorbar": {
             "outlinewidth": 0,
             "ticks": ""
            },
            "type": "choropleth"
           }
          ],
          "contour": [
           {
            "colorbar": {
             "outlinewidth": 0,
             "ticks": ""
            },
            "colorscale": [
             [
              0,
              "#0d0887"
             ],
             [
              0.1111111111111111,
              "#46039f"
             ],
             [
              0.2222222222222222,
              "#7201a8"
             ],
             [
              0.3333333333333333,
              "#9c179e"
             ],
             [
              0.4444444444444444,
              "#bd3786"
             ],
             [
              0.5555555555555556,
              "#d8576b"
             ],
             [
              0.6666666666666666,
              "#ed7953"
             ],
             [
              0.7777777777777778,
              "#fb9f3a"
             ],
             [
              0.8888888888888888,
              "#fdca26"
             ],
             [
              1,
              "#f0f921"
             ]
            ],
            "type": "contour"
           }
          ],
          "contourcarpet": [
           {
            "colorbar": {
             "outlinewidth": 0,
             "ticks": ""
            },
            "type": "contourcarpet"
           }
          ],
          "heatmap": [
           {
            "colorbar": {
             "outlinewidth": 0,
             "ticks": ""
            },
            "colorscale": [
             [
              0,
              "#0d0887"
             ],
             [
              0.1111111111111111,
              "#46039f"
             ],
             [
              0.2222222222222222,
              "#7201a8"
             ],
             [
              0.3333333333333333,
              "#9c179e"
             ],
             [
              0.4444444444444444,
              "#bd3786"
             ],
             [
              0.5555555555555556,
              "#d8576b"
             ],
             [
              0.6666666666666666,
              "#ed7953"
             ],
             [
              0.7777777777777778,
              "#fb9f3a"
             ],
             [
              0.8888888888888888,
              "#fdca26"
             ],
             [
              1,
              "#f0f921"
             ]
            ],
            "type": "heatmap"
           }
          ],
          "heatmapgl": [
           {
            "colorbar": {
             "outlinewidth": 0,
             "ticks": ""
            },
            "colorscale": [
             [
              0,
              "#0d0887"
             ],
             [
              0.1111111111111111,
              "#46039f"
             ],
             [
              0.2222222222222222,
              "#7201a8"
             ],
             [
              0.3333333333333333,
              "#9c179e"
             ],
             [
              0.4444444444444444,
              "#bd3786"
             ],
             [
              0.5555555555555556,
              "#d8576b"
             ],
             [
              0.6666666666666666,
              "#ed7953"
             ],
             [
              0.7777777777777778,
              "#fb9f3a"
             ],
             [
              0.8888888888888888,
              "#fdca26"
             ],
             [
              1,
              "#f0f921"
             ]
            ],
            "type": "heatmapgl"
           }
          ],
          "histogram": [
           {
            "marker": {
             "pattern": {
              "fillmode": "overlay",
              "size": 10,
              "solidity": 0.2
             }
            },
            "type": "histogram"
           }
          ],
          "histogram2d": [
           {
            "colorbar": {
             "outlinewidth": 0,
             "ticks": ""
            },
            "colorscale": [
             [
              0,
              "#0d0887"
             ],
             [
              0.1111111111111111,
              "#46039f"
             ],
             [
              0.2222222222222222,
              "#7201a8"
             ],
             [
              0.3333333333333333,
              "#9c179e"
             ],
             [
              0.4444444444444444,
              "#bd3786"
             ],
             [
              0.5555555555555556,
              "#d8576b"
             ],
             [
              0.6666666666666666,
              "#ed7953"
             ],
             [
              0.7777777777777778,
              "#fb9f3a"
             ],
             [
              0.8888888888888888,
              "#fdca26"
             ],
             [
              1,
              "#f0f921"
             ]
            ],
            "type": "histogram2d"
           }
          ],
          "histogram2dcontour": [
           {
            "colorbar": {
             "outlinewidth": 0,
             "ticks": ""
            },
            "colorscale": [
             [
              0,
              "#0d0887"
             ],
             [
              0.1111111111111111,
              "#46039f"
             ],
             [
              0.2222222222222222,
              "#7201a8"
             ],
             [
              0.3333333333333333,
              "#9c179e"
             ],
             [
              0.4444444444444444,
              "#bd3786"
             ],
             [
              0.5555555555555556,
              "#d8576b"
             ],
             [
              0.6666666666666666,
              "#ed7953"
             ],
             [
              0.7777777777777778,
              "#fb9f3a"
             ],
             [
              0.8888888888888888,
              "#fdca26"
             ],
             [
              1,
              "#f0f921"
             ]
            ],
            "type": "histogram2dcontour"
           }
          ],
          "mesh3d": [
           {
            "colorbar": {
             "outlinewidth": 0,
             "ticks": ""
            },
            "type": "mesh3d"
           }
          ],
          "parcoords": [
           {
            "line": {
             "colorbar": {
              "outlinewidth": 0,
              "ticks": ""
             }
            },
            "type": "parcoords"
           }
          ],
          "pie": [
           {
            "automargin": true,
            "type": "pie"
           }
          ],
          "scatter": [
           {
            "fillpattern": {
             "fillmode": "overlay",
             "size": 10,
             "solidity": 0.2
            },
            "type": "scatter"
           }
          ],
          "scatter3d": [
           {
            "line": {
             "colorbar": {
              "outlinewidth": 0,
              "ticks": ""
             }
            },
            "marker": {
             "colorbar": {
              "outlinewidth": 0,
              "ticks": ""
             }
            },
            "type": "scatter3d"
           }
          ],
          "scattercarpet": [
           {
            "marker": {
             "colorbar": {
              "outlinewidth": 0,
              "ticks": ""
             }
            },
            "type": "scattercarpet"
           }
          ],
          "scattergeo": [
           {
            "marker": {
             "colorbar": {
              "outlinewidth": 0,
              "ticks": ""
             }
            },
            "type": "scattergeo"
           }
          ],
          "scattergl": [
           {
            "marker": {
             "colorbar": {
              "outlinewidth": 0,
              "ticks": ""
             }
            },
            "type": "scattergl"
           }
          ],
          "scattermapbox": [
           {
            "marker": {
             "colorbar": {
              "outlinewidth": 0,
              "ticks": ""
             }
            },
            "type": "scattermapbox"
           }
          ],
          "scatterpolar": [
           {
            "marker": {
             "colorbar": {
              "outlinewidth": 0,
              "ticks": ""
             }
            },
            "type": "scatterpolar"
           }
          ],
          "scatterpolargl": [
           {
            "marker": {
             "colorbar": {
              "outlinewidth": 0,
              "ticks": ""
             }
            },
            "type": "scatterpolargl"
           }
          ],
          "scatterternary": [
           {
            "marker": {
             "colorbar": {
              "outlinewidth": 0,
              "ticks": ""
             }
            },
            "type": "scatterternary"
           }
          ],
          "surface": [
           {
            "colorbar": {
             "outlinewidth": 0,
             "ticks": ""
            },
            "colorscale": [
             [
              0,
              "#0d0887"
             ],
             [
              0.1111111111111111,
              "#46039f"
             ],
             [
              0.2222222222222222,
              "#7201a8"
             ],
             [
              0.3333333333333333,
              "#9c179e"
             ],
             [
              0.4444444444444444,
              "#bd3786"
             ],
             [
              0.5555555555555556,
              "#d8576b"
             ],
             [
              0.6666666666666666,
              "#ed7953"
             ],
             [
              0.7777777777777778,
              "#fb9f3a"
             ],
             [
              0.8888888888888888,
              "#fdca26"
             ],
             [
              1,
              "#f0f921"
             ]
            ],
            "type": "surface"
           }
          ],
          "table": [
           {
            "cells": {
             "fill": {
              "color": "#EBF0F8"
             },
             "line": {
              "color": "white"
             }
            },
            "header": {
             "fill": {
              "color": "#C8D4E3"
             },
             "line": {
              "color": "white"
             }
            },
            "type": "table"
           }
          ]
         },
         "layout": {
          "annotationdefaults": {
           "arrowcolor": "#2a3f5f",
           "arrowhead": 0,
           "arrowwidth": 1
          },
          "autotypenumbers": "strict",
          "coloraxis": {
           "colorbar": {
            "outlinewidth": 0,
            "ticks": ""
           }
          },
          "colorscale": {
           "diverging": [
            [
             0,
             "#8e0152"
            ],
            [
             0.1,
             "#c51b7d"
            ],
            [
             0.2,
             "#de77ae"
            ],
            [
             0.3,
             "#f1b6da"
            ],
            [
             0.4,
             "#fde0ef"
            ],
            [
             0.5,
             "#f7f7f7"
            ],
            [
             0.6,
             "#e6f5d0"
            ],
            [
             0.7,
             "#b8e186"
            ],
            [
             0.8,
             "#7fbc41"
            ],
            [
             0.9,
             "#4d9221"
            ],
            [
             1,
             "#276419"
            ]
           ],
           "sequential": [
            [
             0,
             "#0d0887"
            ],
            [
             0.1111111111111111,
             "#46039f"
            ],
            [
             0.2222222222222222,
             "#7201a8"
            ],
            [
             0.3333333333333333,
             "#9c179e"
            ],
            [
             0.4444444444444444,
             "#bd3786"
            ],
            [
             0.5555555555555556,
             "#d8576b"
            ],
            [
             0.6666666666666666,
             "#ed7953"
            ],
            [
             0.7777777777777778,
             "#fb9f3a"
            ],
            [
             0.8888888888888888,
             "#fdca26"
            ],
            [
             1,
             "#f0f921"
            ]
           ],
           "sequentialminus": [
            [
             0,
             "#0d0887"
            ],
            [
             0.1111111111111111,
             "#46039f"
            ],
            [
             0.2222222222222222,
             "#7201a8"
            ],
            [
             0.3333333333333333,
             "#9c179e"
            ],
            [
             0.4444444444444444,
             "#bd3786"
            ],
            [
             0.5555555555555556,
             "#d8576b"
            ],
            [
             0.6666666666666666,
             "#ed7953"
            ],
            [
             0.7777777777777778,
             "#fb9f3a"
            ],
            [
             0.8888888888888888,
             "#fdca26"
            ],
            [
             1,
             "#f0f921"
            ]
           ]
          },
          "colorway": [
           "#636efa",
           "#EF553B",
           "#00cc96",
           "#ab63fa",
           "#FFA15A",
           "#19d3f3",
           "#FF6692",
           "#B6E880",
           "#FF97FF",
           "#FECB52"
          ],
          "font": {
           "color": "#2a3f5f"
          },
          "geo": {
           "bgcolor": "white",
           "lakecolor": "white",
           "landcolor": "#E5ECF6",
           "showlakes": true,
           "showland": true,
           "subunitcolor": "white"
          },
          "hoverlabel": {
           "align": "left"
          },
          "hovermode": "closest",
          "mapbox": {
           "style": "light"
          },
          "paper_bgcolor": "white",
          "plot_bgcolor": "#E5ECF6",
          "polar": {
           "angularaxis": {
            "gridcolor": "white",
            "linecolor": "white",
            "ticks": ""
           },
           "bgcolor": "#E5ECF6",
           "radialaxis": {
            "gridcolor": "white",
            "linecolor": "white",
            "ticks": ""
           }
          },
          "scene": {
           "xaxis": {
            "backgroundcolor": "#E5ECF6",
            "gridcolor": "white",
            "gridwidth": 2,
            "linecolor": "white",
            "showbackground": true,
            "ticks": "",
            "zerolinecolor": "white"
           },
           "yaxis": {
            "backgroundcolor": "#E5ECF6",
            "gridcolor": "white",
            "gridwidth": 2,
            "linecolor": "white",
            "showbackground": true,
            "ticks": "",
            "zerolinecolor": "white"
           },
           "zaxis": {
            "backgroundcolor": "#E5ECF6",
            "gridcolor": "white",
            "gridwidth": 2,
            "linecolor": "white",
            "showbackground": true,
            "ticks": "",
            "zerolinecolor": "white"
           }
          },
          "shapedefaults": {
           "line": {
            "color": "#2a3f5f"
           }
          },
          "ternary": {
           "aaxis": {
            "gridcolor": "white",
            "linecolor": "white",
            "ticks": ""
           },
           "baxis": {
            "gridcolor": "white",
            "linecolor": "white",
            "ticks": ""
           },
           "bgcolor": "#E5ECF6",
           "caxis": {
            "gridcolor": "white",
            "linecolor": "white",
            "ticks": ""
           }
          },
          "title": {
           "x": 0.05
          },
          "xaxis": {
           "automargin": true,
           "gridcolor": "white",
           "linecolor": "white",
           "ticks": "",
           "title": {
            "standoff": 15
           },
           "zerolinecolor": "white",
           "zerolinewidth": 2
          },
          "yaxis": {
           "automargin": true,
           "gridcolor": "white",
           "linecolor": "white",
           "ticks": "",
           "title": {
            "standoff": 15
           },
           "zerolinecolor": "white",
           "zerolinewidth": 2
          }
         }
        },
        "xaxis": {
         "anchor": "y",
         "domain": [
          0,
          1
         ],
         "title": {
          "text": "value"
         }
        },
        "yaxis": {
         "anchor": "x",
         "domain": [
          0,
          1
         ],
         "title": {
          "text": "index"
         }
        }
       }
      },
      "text/html": [
       "<div>                            <div id=\"3380463f-bf49-41bb-89d4-3f8226128c60\" class=\"plotly-graph-div\" style=\"height:525px; width:100%;\"></div>            <script type=\"text/javascript\">                require([\"plotly\"], function(Plotly) {                    window.PLOTLYENV=window.PLOTLYENV || {};                                    if (document.getElementById(\"3380463f-bf49-41bb-89d4-3f8226128c60\")) {                    Plotly.newPlot(                        \"3380463f-bf49-41bb-89d4-3f8226128c60\",                        [{\"hovertemplate\":\"variable=Base Prim<br>value=%{x}<br>index=%{y}<extra></extra>\",\"legendgroup\":\"Base Prim\",\"marker\":{\"color\":\"#636efa\",\"symbol\":\"circle\"},\"mode\":\"markers\",\"name\":\"Base Prim\",\"orientation\":\"h\",\"showlegend\":true,\"x\":[1285.695556640625,955.201416015625,1467.8936767578125,1195.4840087890625,1811.7021484375,1408.7764892578125,983.7198486328125,1447.91455078125,1382.916015625,1404.6173095703125,1261.6480712890625,1171.5347900390625,1052.3349609375,1346.9580078125,1172.3533935546875,1252.80712890625,1270.957763671875,943.7510375976562,1234.794189453125,1589.8792724609375,1398.010986328125,1402.3157958984375,1398.223876953125,1247.279296875,1025.2991943359375,1232.00146484375,956.6519165039062,1325.8980712890625,1331.9013671875,969.2579345703125,1524.4124755859375,1508.6405029296875,1054.422119140625,1001.1460571289062,1576.8707275390625,1424.816650390625,1011.9195556640625,1469.6304931640625,1504.2550048828125,1186.8458251953125,1603.189453125,1020.3890380859375,1143.0875244140625,1061.885986328125,1320.512939453125,963.0104370117188,1231.1656494140625,1199.835693359375,1257.0225830078125,1070.6732177734375,1192.0623779296875,1487.8218994140625,1246.7557373046875,1504.5821533203125,2207.84423828125,1067.610595703125,1054.879638671875,1755.572265625,917.8462524414062,989.9210815429688,1021.0386962890625,1287.4742431640625,1438.334228515625,1832.764892578125,1138.7611083984375,1584.79248046875,905.7037353515625,1109.9449462890625,1634.54296875,906.8453979492188,1346.649658203125,1395.4322509765625,900.137939453125,1068.831298828125,2106.165771484375,1311.32177734375,1174.6561279296875,1232.424072265625,1411.756591796875,1351.6822509765625,1166.56884765625,1355.075927734375,1148.4342041015625,1268.817138671875,2303.576904296875,1432.2528076171875,1491.53759765625,1171.8360595703125,1244.3167724609375,969.3800048828125,1627.695556640625,1595.0244140625,1239.44384765625,1916.7520751953125,1242.396484375,927.0437622070312,1128.3741455078125,870.9896850585938,1774.074951171875,684.4235229492188,1629.4141845703125,1115.0648193359375,1672.5640869140625,1818.135498046875,1560.5828857421875,1126.49951171875,2264.891845703125,819.8578491210938,1024.425537109375,1074.5989990234375,804.7105712890625,968.8074951171875,1025.2579345703125,1200.8448486328125,970.2998657226562,1975.10498046875,1348.322509765625,1310.01806640625,971.716552734375,985.555908203125,1390.228271484375,1280.5625,1981.92529296875,1185.2388916015625,817.559814453125,1398.13427734375,955.3458251953125,1063.099609375,833.5341186523438,991.8865356445312,1197.301513671875,1497.759521484375,980.0659790039062,1287.2637939453125,1220.914306640625,1496.2470703125,1466.2354736328125,1650.2779541015625,1434.2427978515625,947.5538940429688,1897.41015625,1017.9522705078125,1153.4296875,1210.1033935546875,1148.6298828125,1145.5103759765625,1684.365966796875,1066.3355712890625,925.4405517578125,1106.4215087890625,1011.1277465820312,1649.6680908203125,946.8377685546875,1273.4044189453125,1783.8062744140625,1060.6767578125,1546.177001953125,1378.0343017578125,1317.4483642578125,837.4121704101562,1589.1287841796875,1502.9105224609375,1523.0662841796875,1087.7769775390625,918.4034423828125,1165.240234375,1274.7642822265625,1322.2655029296875,1091.9285888671875,1110.775634765625,1270.807373046875,1091.122314453125,783.5245361328125,1202.8487548828125,899.4573974609375,1312.292236328125,1481.112060546875,1482.6839599609375,1404.059814453125,942.434814453125,1433.951904296875,1572.843017578125,1358.6275634765625,1475.0706787109375,1204.9691162109375,1612.9749755859375,983.8387451171875,1263.0360107421875,1254.228515625,1214.6785888671875,1699.114013671875,1328.33203125,1159.890380859375,1088.91796875,1162.864013671875,1791.2071533203125,1737.948486328125,1209.7772216796875,1094.7059326171875,933.9066772460938,1125.743408203125,1046.9227294921875,1131.388427734375,1346.804931640625,1119.732421875,1939.7174072265625,1023.77197265625,1239.5718994140625,828.8134155273438,766.5795288085938,1605.58203125,1448.7344970703125,1374.248291015625,1110.9046630859375,1255.8990478515625,1099.2779541015625,881.6034545898438,951.4112548828125,1449.0064697265625,1254.065185546875,1116.80712890625,1432.6605224609375,1281.1744384765625,1591.8177490234375,941.390380859375,1912.4326171875,1388.09716796875,1406.518310546875,1329.77197265625,1043.9906005859375,1413.6268310546875,935.939208984375,988.8319091796875,925.2020263671875,2194.57177734375,1214.061767578125,1616.1441650390625,1010.0360717773438,1435.2628173828125,1300.993896484375,1476.0899658203125,1999.6318359375,1029.7388916015625,1448.282470703125,1355.028564453125,931.271484375,1392.3917236328125,1086.1158447265625,1213.3758544921875,1442.994873046875,1345.137939453125,1095.2591552734375,1070.2825927734375,1614.4635009765625,872.6218872070312,1676.582275390625,1120.768310546875,1269.97119140625,1396.6639404296875,1196.5103759765625,953.4616088867188,1080.7962646484375,1462.17578125,1048.33935546875,1554.2445068359375,1627.8043212890625,925.122802734375,769.8594360351562,1076.2894287109375,1258.6708984375,1549.55712890625,1110.24462890625,1088.83642578125,774.1207885742188,1201.814697265625,1417.766357421875,969.3223266601562,1955.0810546875,1108.6937255859375,1055.609375,1506.585693359375,1176.642333984375,840.912109375,1348.127197265625,1303.1895751953125,1193.3277587890625,1058.5455322265625,1740.28466796875,1344.7191162109375,1114.7801513671875,1299.9720458984375,1575.9139404296875,1423.146728515625,1698.7119140625,824.45654296875,1419.0052490234375,1237.31640625,1077.8670654296875,1402.3746337890625,832.882080078125,1150.284423828125,1216.3074951171875,1341.5123291015625,985.4179077148438,1344.2628173828125,1266.1480712890625,1679.3018798828125,1470.6502685546875,1381.78076171875,1657.801513671875,1824.2769775390625,1464.4232177734375,1476.9593505859375,1179.20556640625,1126.3934326171875,1354.5543212890625,1150.097412109375,1428.4949951171875,1108.1319580078125,1310.77734375,996.530029296875,984.2632446289062,912.236083984375,1033.874267578125,927.6099853515625,1513.7254638671875,1670.0419921875,1217.9835205078125,979.9647827148438,1219.6363525390625,1103.466552734375,1242.590576171875,1534.156982421875,1539.267822265625,1255.1983642578125,1329.478759765625,1576.5594482421875,1052.3941650390625,1275.129638671875,1133.92578125,1722.8328857421875,956.1333618164062,1652.4383544921875,1264.76220703125,1843.9388427734375,997.510986328125,1483.3984375,907.4395751953125,1029.846435546875,1702.38671875,1077.9482421875,1814.6600341796875,1185.990478515625,918.4479370117188,1481.09814453125,1925.29931640625,1207.375732421875,997.5206909179688,1499.6153564453125,1035.89453125,1005.8027954101562,799.0323486328125,1526.1363525390625,1045.6519775390625,1417.6094970703125,1080.516357421875,1055.6953125,1563.097412109375,968.2677612304688,1636.801513671875,1531.169189453125,1153.68994140625,1944.4727783203125,861.7538452148438,908.171875,1213.3038330078125,1653.0367431640625,1448.980712890625,917.9357299804688,1200.6319580078125,884.9033813476562,1227.873046875,794.4302978515625,879.572998046875,1331.6663818359375,1487.7138671875],\"xaxis\":\"x\",\"y\":[4898,5712,7122,6006,3961,4609,5627,4739,5314,3631,2734,7193,4073,2429,2759,5761,2811,6929,1494,6816,4818,2728,4499,266,6561,6859,3528,7430,5703,3265,6998,1916,4676,4099,3873,5424,86,2342,5422,4457,490,6005,1730,3856,5241,3864,2270,5123,963,3705,7183,4417,5374,411,1358,6463,5020,2931,3883,674,6941,3323,1980,5990,1620,1183,2487,1778,5189,5153,1960,556,4717,2304,7491,4304,115,5805,4826,3009,6032,3192,1798,1156,5554,5611,5834,4747,748,2315,7149,4244,2959,2934,6442,7393,851,5989,2286,1683,4941,3089,6238,6021,3928,6720,5444,3718,3215,2952,772,2969,4445,6054,6738,3058,3610,325,4868,6311,5771,4553,3427,309,3374,5231,6844,4070,1469,2778,2795,5165,5316,2971,5687,2321,2240,7465,6647,1171,3712,2140,4756,4469,230,263,501,2672,5819,5217,6654,2523,4439,1312,2254,7388,5372,6133,5679,3324,3830,4295,6128,5528,6987,392,2746,2009,1741,1126,3664,2975,3223,3965,2630,7335,4493,5715,6302,5506,434,2712,3114,1803,6988,3776,7281,6811,5253,4091,6967,2851,7096,5849,5488,1505,6075,5360,1464,615,6008,7179,3237,734,7427,7367,5489,7260,1253,4477,202,4116,2810,7404,4478,1495,5197,1595,701,516,5094,5279,1959,1084,5997,6050,6952,2016,3353,5481,1477,2531,3064,4742,3294,5944,1689,23,3963,7429,3024,4161,5493,6363,229,97,3765,4555,7363,3153,5801,4541,474,3504,1693,1744,4337,5975,2379,6827,5055,74,5810,3954,5068,464,2056,4937,6033,3799,3331,3390,2950,3415,1337,1720,3348,1389,6191,5717,3785,359,7083,4807,5168,5008,6812,5765,1674,413,2812,1241,1666,3749,2250,5335,3675,3905,6677,2026,2690,2771,6636,5211,5416,560,2632,5505,4851,2019,5287,4793,1025,4285,4726,5162,4390,4839,4313,5354,2449,3893,4962,4533,2482,1257,4889,3793,6065,6159,2490,1614,1015,4234,684,5517,3146,6435,5553,1210,3912,2902,5140,2868,2626,1627,5509,3691,3278,5776,7357,4344,6565,7237,3366,2520,2600,7196,4546,6917,6745,3439,3027,4961,4959,6516,1560,523,891,5399,4690,3629,2427,1923,5019,2828,5083,897,3171,5985,4167,6380,6178,6523,1012,2398],\"yaxis\":\"y\",\"type\":\"scatter\"},{\"hovertemplate\":\"variable=Clm Amt<br>value=%{x}<br>index=%{y}<extra></extra>\",\"legendgroup\":\"Clm Amt\",\"marker\":{\"color\":\"#EF553B\",\"symbol\":\"circle\"},\"mode\":\"markers\",\"name\":\"Clm Amt\",\"orientation\":\"h\",\"showlegend\":true,\"x\":[1973.0,3455.0,2883.0,5610.0,5160.0,2379.0,2535.0,56400.0,7291.0,2646.0,3091.0,5032.0,4950.0,5396.0,3158.0,5618.0,3663.0,6457.0,3348.0,9082.0,2422.0,1205.0,3134.0,2891.0,3654.0,3305.0,5470.0,4091.0,4927.0,599.0,4274.0,20883.0,13770.0,6050.0,4665.0,5761.0,2143.0,50818.0,4623.0,3548.0,5951.0,2524.0,5146.0,5782.0,1643.0,1428.0,4234.0,3698.0,4754.0,4102.0,4941.0,1381.0,58851.0,4313.0,3361.0,1168.0,3125.0,14604.0,2572.0,7551.0,3982.0,1479.0,3007.0,3822.0,2786.0,11770.0,5583.0,6386.0,1511.0,4666.0,7084.0,5722.0,7369.0,3901.0,3288.0,2667.0,6158.0,5109.0,5631.0,3965.0,2012.0,6074.0,4298.0,3343.0,4665.0,7843.0,710.0,934.0,3337.0,5301.0,4167.0,3896.0,2392.0,2932.0,726.0,2870.0,6606.0,3686.0,3340.0,706.0,2489.0,2463.0,5273.0,3350.0,3845.0,2933.0,3982.0,926.0,3762.0,4566.0,3971.0,2136.0,7058.0,5648.0,7099.0,4539.0,1299.0,6245.0,5908.0,3374.0,4363.0,9945.0,10839.0,14834.0,1556.0,5063.0,5268.0,5165.0,3193.0,2474.0,5250.0,1741.0,6491.0,663.0,3169.0,2574.0,16678.0,3106.0,4356.0,2464.0,966.0,2489.0,5324.0,2763.0,6195.0,5395.0,60838.0,3900.0,27711.0,5662.0,2943.0,3667.0,5212.0,4347.0,2297.0,3999.0,5102.0,2517.0,2976.0,5184.0,1947.0,9059.0,6049.0,3226.0,3060.0,4046.0,44916.0,4519.0,3036.0,4277.0,956.0,1026.0,2585.0,2418.0,856.0,1307.0,4804.0,4536.0,5161.0,3659.0,7161.0,6188.0,6409.0,2446.0,693.0,9105.0,5436.0,52490.0,5642.0,1639.0,7756.0,3625.0,3790.0,4308.0,5759.0,3107.0,2075.0,2468.0,3440.0,2408.0,7833.0,7619.0,3794.0,2553.0,2301.0,7506.0,5866.0,5052.0,4943.0,4892.0,5733.0,5013.0,2298.0,4753.0,7563.0,9467.0,4448.0,7123.0,6849.0,3038.0,4485.0,4691.0,3611.0,8162.0,1232.0,4321.0,4255.0,3993.0,196.0,3667.0,4704.0,2598.0,2727.0,10690.0,2033.0,4198.0,5275.0,4486.0,2651.0,4190.0,2265.0,2901.0,5831.0,3851.0,2287.0,6287.0,7800.0,2559.0,4863.0,6393.0,830.0,6612.0,917.0,3334.0,1338.0,1453.0,4326.0,7505.0,6726.0,2776.0,4367.0,13105.0,6023.0,4433.0,2964.0,3854.0,3501.0,1324.0,1683.0,4577.0,1877.0,3674.0,3269.0,2419.0,1498.0,774.0,2091.0,316.0,18139.0,5282.0,4298.0,5252.0,8748.0,471.0,13773.0,4538.0,4600.0,6693.0,5459.0,4257.0,4390.0,5967.0,3044.0,6281.0,4933.0,4363.0,6719.0,3367.0,4703.0,8843.0,5509.0,5064.0,3793.0,23154.0,3549.0,3879.0,9663.0,840.0,3726.0,19668.0,2106.0,4771.0,22244.0,5791.0,11213.0,7442.0,7481.0,4172.0,1745.0,2746.0,4307.0,535.0,5431.0,3128.0,15562.0,5295.0,3488.0,12338.0,1282.0,35009.0,2524.0,20509.0,3242.0,8000.0,4488.0,4093.0,1698.0,5521.0,4130.0,664.0,3776.0,1937.0,8623.0,4080.0,1850.0,9540.0,3425.0,2199.0,4790.0,8060.0,4506.0,2908.0,2413.0,1043.0,680.0,6145.0,9187.0,7170.0,3347.0,6969.0,1525.0,3960.0,3265.0,6481.0,6579.0,6639.0,5320.0,5109.0,4191.0,7199.0,1125.0,2575.0,7311.0,5692.0,3589.0,2856.0,38378.0,3048.0,3674.0,6088.0,3225.0,4165.0,5358.0,7052.0,2856.0,4298.0],\"xaxis\":\"x\",\"y\":[4898,5712,7122,6006,3961,4609,5627,4739,5314,3631,2734,7193,4073,2429,2759,5761,2811,6929,1494,6816,4818,2728,4499,266,6561,6859,3528,7430,5703,3265,6998,1916,4676,4099,3873,5424,86,2342,5422,4457,490,6005,1730,3856,5241,3864,2270,5123,963,3705,7183,4417,5374,411,1358,6463,5020,2931,3883,674,6941,3323,1980,5990,1620,1183,2487,1778,5189,5153,1960,556,4717,2304,7491,4304,115,5805,4826,3009,6032,3192,1798,1156,5554,5611,5834,4747,748,2315,7149,4244,2959,2934,6442,7393,851,5989,2286,1683,4941,3089,6238,6021,3928,6720,5444,3718,3215,2952,772,2969,4445,6054,6738,3058,3610,325,4868,6311,5771,4553,3427,309,3374,5231,6844,4070,1469,2778,2795,5165,5316,2971,5687,2321,2240,7465,6647,1171,3712,2140,4756,4469,230,263,501,2672,5819,5217,6654,2523,4439,1312,2254,7388,5372,6133,5679,3324,3830,4295,6128,5528,6987,392,2746,2009,1741,1126,3664,2975,3223,3965,2630,7335,4493,5715,6302,5506,434,2712,3114,1803,6988,3776,7281,6811,5253,4091,6967,2851,7096,5849,5488,1505,6075,5360,1464,615,6008,7179,3237,734,7427,7367,5489,7260,1253,4477,202,4116,2810,7404,4478,1495,5197,1595,701,516,5094,5279,1959,1084,5997,6050,6952,2016,3353,5481,1477,2531,3064,4742,3294,5944,1689,23,3963,7429,3024,4161,5493,6363,229,97,3765,4555,7363,3153,5801,4541,474,3504,1693,1744,4337,5975,2379,6827,5055,74,5810,3954,5068,464,2056,4937,6033,3799,3331,3390,2950,3415,1337,1720,3348,1389,6191,5717,3785,359,7083,4807,5168,5008,6812,5765,1674,413,2812,1241,1666,3749,2250,5335,3675,3905,6677,2026,2690,2771,6636,5211,5416,560,2632,5505,4851,2019,5287,4793,1025,4285,4726,5162,4390,4839,4313,5354,2449,3893,4962,4533,2482,1257,4889,3793,6065,6159,2490,1614,1015,4234,684,5517,3146,6435,5553,1210,3912,2902,5140,2868,2626,1627,5509,3691,3278,5776,7357,4344,6565,7237,3366,2520,2600,7196,4546,6917,6745,3439,3027,4961,4959,6516,1560,523,891,5399,4690,3629,2427,1923,5019,2828,5083,897,3171,5985,4167,6380,6178,6523,1012,2398],\"yaxis\":\"y\",\"type\":\"scatter\"}],                        {\"template\":{\"data\":{\"histogram2dcontour\":[{\"type\":\"histogram2dcontour\",\"colorbar\":{\"outlinewidth\":0,\"ticks\":\"\"},\"colorscale\":[[0.0,\"#0d0887\"],[0.1111111111111111,\"#46039f\"],[0.2222222222222222,\"#7201a8\"],[0.3333333333333333,\"#9c179e\"],[0.4444444444444444,\"#bd3786\"],[0.5555555555555556,\"#d8576b\"],[0.6666666666666666,\"#ed7953\"],[0.7777777777777778,\"#fb9f3a\"],[0.8888888888888888,\"#fdca26\"],[1.0,\"#f0f921\"]]}],\"choropleth\":[{\"type\":\"choropleth\",\"colorbar\":{\"outlinewidth\":0,\"ticks\":\"\"}}],\"histogram2d\":[{\"type\":\"histogram2d\",\"colorbar\":{\"outlinewidth\":0,\"ticks\":\"\"},\"colorscale\":[[0.0,\"#0d0887\"],[0.1111111111111111,\"#46039f\"],[0.2222222222222222,\"#7201a8\"],[0.3333333333333333,\"#9c179e\"],[0.4444444444444444,\"#bd3786\"],[0.5555555555555556,\"#d8576b\"],[0.6666666666666666,\"#ed7953\"],[0.7777777777777778,\"#fb9f3a\"],[0.8888888888888888,\"#fdca26\"],[1.0,\"#f0f921\"]]}],\"heatmap\":[{\"type\":\"heatmap\",\"colorbar\":{\"outlinewidth\":0,\"ticks\":\"\"},\"colorscale\":[[0.0,\"#0d0887\"],[0.1111111111111111,\"#46039f\"],[0.2222222222222222,\"#7201a8\"],[0.3333333333333333,\"#9c179e\"],[0.4444444444444444,\"#bd3786\"],[0.5555555555555556,\"#d8576b\"],[0.6666666666666666,\"#ed7953\"],[0.7777777777777778,\"#fb9f3a\"],[0.8888888888888888,\"#fdca26\"],[1.0,\"#f0f921\"]]}],\"heatmapgl\":[{\"type\":\"heatmapgl\",\"colorbar\":{\"outlinewidth\":0,\"ticks\":\"\"},\"colorscale\":[[0.0,\"#0d0887\"],[0.1111111111111111,\"#46039f\"],[0.2222222222222222,\"#7201a8\"],[0.3333333333333333,\"#9c179e\"],[0.4444444444444444,\"#bd3786\"],[0.5555555555555556,\"#d8576b\"],[0.6666666666666666,\"#ed7953\"],[0.7777777777777778,\"#fb9f3a\"],[0.8888888888888888,\"#fdca26\"],[1.0,\"#f0f921\"]]}],\"contourcarpet\":[{\"type\":\"contourcarpet\",\"colorbar\":{\"outlinewidth\":0,\"ticks\":\"\"}}],\"contour\":[{\"type\":\"contour\",\"colorbar\":{\"outlinewidth\":0,\"ticks\":\"\"},\"colorscale\":[[0.0,\"#0d0887\"],[0.1111111111111111,\"#46039f\"],[0.2222222222222222,\"#7201a8\"],[0.3333333333333333,\"#9c179e\"],[0.4444444444444444,\"#bd3786\"],[0.5555555555555556,\"#d8576b\"],[0.6666666666666666,\"#ed7953\"],[0.7777777777777778,\"#fb9f3a\"],[0.8888888888888888,\"#fdca26\"],[1.0,\"#f0f921\"]]}],\"surface\":[{\"type\":\"surface\",\"colorbar\":{\"outlinewidth\":0,\"ticks\":\"\"},\"colorscale\":[[0.0,\"#0d0887\"],[0.1111111111111111,\"#46039f\"],[0.2222222222222222,\"#7201a8\"],[0.3333333333333333,\"#9c179e\"],[0.4444444444444444,\"#bd3786\"],[0.5555555555555556,\"#d8576b\"],[0.6666666666666666,\"#ed7953\"],[0.7777777777777778,\"#fb9f3a\"],[0.8888888888888888,\"#fdca26\"],[1.0,\"#f0f921\"]]}],\"mesh3d\":[{\"type\":\"mesh3d\",\"colorbar\":{\"outlinewidth\":0,\"ticks\":\"\"}}],\"scatter\":[{\"fillpattern\":{\"fillmode\":\"overlay\",\"size\":10,\"solidity\":0.2},\"type\":\"scatter\"}],\"parcoords\":[{\"type\":\"parcoords\",\"line\":{\"colorbar\":{\"outlinewidth\":0,\"ticks\":\"\"}}}],\"scatterpolargl\":[{\"type\":\"scatterpolargl\",\"marker\":{\"colorbar\":{\"outlinewidth\":0,\"ticks\":\"\"}}}],\"bar\":[{\"error_x\":{\"color\":\"#2a3f5f\"},\"error_y\":{\"color\":\"#2a3f5f\"},\"marker\":{\"line\":{\"color\":\"#E5ECF6\",\"width\":0.5},\"pattern\":{\"fillmode\":\"overlay\",\"size\":10,\"solidity\":0.2}},\"type\":\"bar\"}],\"scattergeo\":[{\"type\":\"scattergeo\",\"marker\":{\"colorbar\":{\"outlinewidth\":0,\"ticks\":\"\"}}}],\"scatterpolar\":[{\"type\":\"scatterpolar\",\"marker\":{\"colorbar\":{\"outlinewidth\":0,\"ticks\":\"\"}}}],\"histogram\":[{\"marker\":{\"pattern\":{\"fillmode\":\"overlay\",\"size\":10,\"solidity\":0.2}},\"type\":\"histogram\"}],\"scattergl\":[{\"type\":\"scattergl\",\"marker\":{\"colorbar\":{\"outlinewidth\":0,\"ticks\":\"\"}}}],\"scatter3d\":[{\"type\":\"scatter3d\",\"line\":{\"colorbar\":{\"outlinewidth\":0,\"ticks\":\"\"}},\"marker\":{\"colorbar\":{\"outlinewidth\":0,\"ticks\":\"\"}}}],\"scattermapbox\":[{\"type\":\"scattermapbox\",\"marker\":{\"colorbar\":{\"outlinewidth\":0,\"ticks\":\"\"}}}],\"scatterternary\":[{\"type\":\"scatterternary\",\"marker\":{\"colorbar\":{\"outlinewidth\":0,\"ticks\":\"\"}}}],\"scattercarpet\":[{\"type\":\"scattercarpet\",\"marker\":{\"colorbar\":{\"outlinewidth\":0,\"ticks\":\"\"}}}],\"carpet\":[{\"aaxis\":{\"endlinecolor\":\"#2a3f5f\",\"gridcolor\":\"white\",\"linecolor\":\"white\",\"minorgridcolor\":\"white\",\"startlinecolor\":\"#2a3f5f\"},\"baxis\":{\"endlinecolor\":\"#2a3f5f\",\"gridcolor\":\"white\",\"linecolor\":\"white\",\"minorgridcolor\":\"white\",\"startlinecolor\":\"#2a3f5f\"},\"type\":\"carpet\"}],\"table\":[{\"cells\":{\"fill\":{\"color\":\"#EBF0F8\"},\"line\":{\"color\":\"white\"}},\"header\":{\"fill\":{\"color\":\"#C8D4E3\"},\"line\":{\"color\":\"white\"}},\"type\":\"table\"}],\"barpolar\":[{\"marker\":{\"line\":{\"color\":\"#E5ECF6\",\"width\":0.5},\"pattern\":{\"fillmode\":\"overlay\",\"size\":10,\"solidity\":0.2}},\"type\":\"barpolar\"}],\"pie\":[{\"automargin\":true,\"type\":\"pie\"}]},\"layout\":{\"autotypenumbers\":\"strict\",\"colorway\":[\"#636efa\",\"#EF553B\",\"#00cc96\",\"#ab63fa\",\"#FFA15A\",\"#19d3f3\",\"#FF6692\",\"#B6E880\",\"#FF97FF\",\"#FECB52\"],\"font\":{\"color\":\"#2a3f5f\"},\"hovermode\":\"closest\",\"hoverlabel\":{\"align\":\"left\"},\"paper_bgcolor\":\"white\",\"plot_bgcolor\":\"#E5ECF6\",\"polar\":{\"bgcolor\":\"#E5ECF6\",\"angularaxis\":{\"gridcolor\":\"white\",\"linecolor\":\"white\",\"ticks\":\"\"},\"radialaxis\":{\"gridcolor\":\"white\",\"linecolor\":\"white\",\"ticks\":\"\"}},\"ternary\":{\"bgcolor\":\"#E5ECF6\",\"aaxis\":{\"gridcolor\":\"white\",\"linecolor\":\"white\",\"ticks\":\"\"},\"baxis\":{\"gridcolor\":\"white\",\"linecolor\":\"white\",\"ticks\":\"\"},\"caxis\":{\"gridcolor\":\"white\",\"linecolor\":\"white\",\"ticks\":\"\"}},\"coloraxis\":{\"colorbar\":{\"outlinewidth\":0,\"ticks\":\"\"}},\"colorscale\":{\"sequential\":[[0.0,\"#0d0887\"],[0.1111111111111111,\"#46039f\"],[0.2222222222222222,\"#7201a8\"],[0.3333333333333333,\"#9c179e\"],[0.4444444444444444,\"#bd3786\"],[0.5555555555555556,\"#d8576b\"],[0.6666666666666666,\"#ed7953\"],[0.7777777777777778,\"#fb9f3a\"],[0.8888888888888888,\"#fdca26\"],[1.0,\"#f0f921\"]],\"sequentialminus\":[[0.0,\"#0d0887\"],[0.1111111111111111,\"#46039f\"],[0.2222222222222222,\"#7201a8\"],[0.3333333333333333,\"#9c179e\"],[0.4444444444444444,\"#bd3786\"],[0.5555555555555556,\"#d8576b\"],[0.6666666666666666,\"#ed7953\"],[0.7777777777777778,\"#fb9f3a\"],[0.8888888888888888,\"#fdca26\"],[1.0,\"#f0f921\"]],\"diverging\":[[0,\"#8e0152\"],[0.1,\"#c51b7d\"],[0.2,\"#de77ae\"],[0.3,\"#f1b6da\"],[0.4,\"#fde0ef\"],[0.5,\"#f7f7f7\"],[0.6,\"#e6f5d0\"],[0.7,\"#b8e186\"],[0.8,\"#7fbc41\"],[0.9,\"#4d9221\"],[1,\"#276419\"]]},\"xaxis\":{\"gridcolor\":\"white\",\"linecolor\":\"white\",\"ticks\":\"\",\"title\":{\"standoff\":15},\"zerolinecolor\":\"white\",\"automargin\":true,\"zerolinewidth\":2},\"yaxis\":{\"gridcolor\":\"white\",\"linecolor\":\"white\",\"ticks\":\"\",\"title\":{\"standoff\":15},\"zerolinecolor\":\"white\",\"automargin\":true,\"zerolinewidth\":2},\"scene\":{\"xaxis\":{\"backgroundcolor\":\"#E5ECF6\",\"gridcolor\":\"white\",\"linecolor\":\"white\",\"showbackground\":true,\"ticks\":\"\",\"zerolinecolor\":\"white\",\"gridwidth\":2},\"yaxis\":{\"backgroundcolor\":\"#E5ECF6\",\"gridcolor\":\"white\",\"linecolor\":\"white\",\"showbackground\":true,\"ticks\":\"\",\"zerolinecolor\":\"white\",\"gridwidth\":2},\"zaxis\":{\"backgroundcolor\":\"#E5ECF6\",\"gridcolor\":\"white\",\"linecolor\":\"white\",\"showbackground\":true,\"ticks\":\"\",\"zerolinecolor\":\"white\",\"gridwidth\":2}},\"shapedefaults\":{\"line\":{\"color\":\"#2a3f5f\"}},\"annotationdefaults\":{\"arrowcolor\":\"#2a3f5f\",\"arrowhead\":0,\"arrowwidth\":1},\"geo\":{\"bgcolor\":\"white\",\"landcolor\":\"#E5ECF6\",\"subunitcolor\":\"white\",\"showland\":true,\"showlakes\":true,\"lakecolor\":\"white\"},\"title\":{\"x\":0.05},\"mapbox\":{\"style\":\"light\"}}},\"xaxis\":{\"anchor\":\"y\",\"domain\":[0.0,1.0],\"title\":{\"text\":\"value\"}},\"yaxis\":{\"anchor\":\"x\",\"domain\":[0.0,1.0],\"title\":{\"text\":\"index\"}},\"legend\":{\"title\":{\"text\":\"variable\"},\"tracegroupgap\":0},\"margin\":{\"t\":60}},                        {\"responsive\": true}                    ).then(function(){\n",
       "                            \n",
       "var gd = document.getElementById('3380463f-bf49-41bb-89d4-3f8226128c60');\n",
       "var x = new MutationObserver(function (mutations, observer) {{\n",
       "        var display = window.getComputedStyle(gd).display;\n",
       "        if (!display || display === 'none') {{\n",
       "            console.log([gd, 'removed!']);\n",
       "            Plotly.purge(gd);\n",
       "            observer.disconnect();\n",
       "        }}\n",
       "}});\n",
       "\n",
       "// Listen for the removal of the full notebook cells\n",
       "var notebookContainer = gd.closest('#notebook-container');\n",
       "if (notebookContainer) {{\n",
       "    x.observe(notebookContainer, {childList: true});\n",
       "}}\n",
       "\n",
       "// Listen for the clearing of the current output cell\n",
       "var outputEl = gd.closest('.output');\n",
       "if (outputEl) {{\n",
       "    x.observe(outputEl, {childList: true});\n",
       "}}\n",
       "\n",
       "                        })                };                });            </script>        </div>"
      ]
     },
     "metadata": {},
     "output_type": "display_data"
    }
   ],
   "source": [
    "px.scatter(prob_data, x=[\"Base Prim\",\"Clm Amt\"])"
   ]
  },
  {
   "cell_type": "code",
   "execution_count": 22,
   "id": "aa0bb76c",
   "metadata": {},
   "outputs": [],
   "source": [
    "########### YAPILANLARI VE SONUÇLARI SUNUM FORMATINA GETİR"
   ]
  }
 ],
 "metadata": {
  "kernelspec": {
   "display_name": "Python 3 (ipykernel)",
   "language": "python",
   "name": "python3"
  },
  "language_info": {
   "codemirror_mode": {
    "name": "ipython",
    "version": 3
   },
   "file_extension": ".py",
   "mimetype": "text/x-python",
   "name": "python",
   "nbconvert_exporter": "python",
   "pygments_lexer": "ipython3",
   "version": "3.10.9"
  }
 },
 "nbformat": 4,
 "nbformat_minor": 5
}
